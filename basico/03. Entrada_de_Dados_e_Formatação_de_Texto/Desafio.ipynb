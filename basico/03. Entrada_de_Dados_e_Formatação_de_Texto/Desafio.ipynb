{
 "cells": [
  {
   "cell_type": "markdown",
   "id": "0e1993a7",
   "metadata": {},
   "source": [
    "# 🔥DESAFIO ADICIONAL –\n",
    "Receba uma data no formato DD/MM/AAAA  \n",
    "inverta para AAAA-MM-DD  \n",
    "substitua o dia pelo número de dias restante até o final do mês (simulação de cálculo simples)  \n",
    "mostrando o resultado formatado em f-string.  "
   ]
  },
  {
   "cell_type": "markdown",
   "id": "cea5815d",
   "metadata": {},
   "source": [
    "---"
   ]
  },
  {
   "cell_type": "markdown",
   "id": "7a373147",
   "metadata": {},
   "source": [
    "> 📝 O que é um desafio?\n",
    "\n",
    "O desafio será parecido com a atividade anterior, mas mais **geral e um pouco mais complexo**.  \n",
    "O objetivo é **pensar por conta própria**, organizar suas ideias e **resolver o problema passo a passo**, sem instruções detalhadas.\n",
    "\n",
    "Ele ajuda a **praticar, testar soluções e desenvolver raciocínio lógico**, simulando situações reais.  \n",
    "\n",
    "💡 **Dica:** Analise cada parte do problema e vá resolvendo passo a passo. Errar faz parte do aprendizado!\n",
    "\n",
    "---\n"
   ]
  },
  {
   "cell_type": "markdown",
   "id": "ab5e238c",
   "metadata": {},
   "source": [
    "<details>\n",
    "  <summary>💡 Clique aqui para ver a solução quando acabar</summary>\n",
    "\n",
    "```python\n",
    "# Recebendo a data\n",
    "data = input(\"Digite a data (DD/MM/AAAA): \")  # ex: 12/09/2025\n",
    "\n",
    "# Separando dia, mês e ano\n",
    "dia, mes, ano = data.split(\"/\")\n",
    "\n",
    "# Calculando dias restantes até o final do mês (simplificação: todos os meses têm 30 dias)\n",
    "dias_restantes = 30 - int(dia)\n",
    "\n",
    "# Criando nova data no formato AAAA-MM-DD, substituindo o dia pelos dias restantes\n",
    "nova_data = f\"{ano}-{mes}-{dias_restantes}\"\n",
    "\n",
    "# Mostrando resultado\n",
    "print(f\"Data transformada: {nova_data}\")\n"
   ]
  },
  {
   "cell_type": "markdown",
   "id": "23d40279",
   "metadata": {},
   "source": [
    "---"
   ]
  },
  {
   "cell_type": "markdown",
   "id": "eb347229",
   "metadata": {},
   "source": [
    "Exemplo de entrada: Digite a data (DD/MM/AAAA): 12/09/2025  \n",
    "Exemplo de saída para a entrada 12/09/2025: Data transformada: 2025-09-18"
   ]
  },
  {
   "cell_type": "code",
   "execution_count": null,
   "id": "b41a09b2",
   "metadata": {},
   "outputs": [],
   "source": []
  }
 ],
 "metadata": {
  "language_info": {
   "name": "python"
  }
 },
 "nbformat": 4,
 "nbformat_minor": 5
}
