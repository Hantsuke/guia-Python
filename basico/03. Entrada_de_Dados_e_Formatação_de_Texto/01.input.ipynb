{
 "cells": [
  {
   "cell_type": "markdown",
   "id": "b241b5c6",
   "metadata": {},
   "source": [
    "# 🖊️ Input()\n",
    ">**O que é input()**\n",
    ">- É uma função embutida do Python.\n",
    ">- Ela pausa o programa e espera o usuário digitar algo.\n",
    ">- O que o usuário digita é sempre retornado como uma string.\n",
    ">"
   ]
  },
  {
   "cell_type": "markdown",
   "id": "309a55f0",
   "metadata": {},
   "source": [
    "# Estrutura \n",
    "`input(`mensagem`)`  \n",
    "Você pode colocar em uma variavel o valor retornado do input"
   ]
  },
  {
   "cell_type": "code",
   "execution_count": null,
   "id": "94a82b10",
   "metadata": {},
   "outputs": [],
   "source": [
    "nome = input(\"Digite seu nome: \")\n",
    "print(\"Olá,\", nome)"
   ]
  },
  {
   "cell_type": "markdown",
   "id": "c8c41cca",
   "metadata": {},
   "source": [
    "# 🔄 Convertendo para outros tipos\n",
    "Como input sempre retorna como uma string , precisamos conveter para outro tipo, igual com a variavel "
   ]
  },
  {
   "cell_type": "markdown",
   "id": "57880832",
   "metadata": {},
   "source": [
    "Voce tem ideia de como conveter ?"
   ]
  },
  {
   "cell_type": "code",
   "execution_count": null,
   "id": "742e9e8e",
   "metadata": {},
   "outputs": [],
   "source": []
  },
  {
   "cell_type": "markdown",
   "id": "bdaf2314",
   "metadata": {},
   "source": [
    "<details>\n",
    "  <summary>💡 Clique aqui para ver a como conveter um imput para int</summary>\n",
    "int(input(\"Digite sua idade: \"))"
   ]
  },
  {
   "cell_type": "code",
   "execution_count": null,
   "id": "7c1cd567",
   "metadata": {},
   "outputs": [],
   "source": [
    "idade = int(input(\"Digite sua idade: \"))    # Converte para inteiro\n",
    "altura = float(input(\"Digite sua altura: \"))  # Converte para número decimal\n"
   ]
  },
  {
   "cell_type": "markdown",
   "id": "aa1c4bf6",
   "metadata": {},
   "source": [
    "Fazemos igual com uma variavel, so colocar o tipo (input (mensagem))\n",
    "O input é igual o print porem eles param o progama para digitar algo \n",
    "\n",
    "💡 Dica: Se não converter, operações matemáticas causarão erro."
   ]
  },
  {
   "cell_type": "markdown",
   "id": "1c589e66",
   "metadata": {},
   "source": [
    "# 🧰 6. Operações Diretas\n",
    "É possível realizar cálculos diretamente com valores convertidos:"
   ]
  },
  {
   "cell_type": "code",
   "execution_count": null,
   "id": "7000a965",
   "metadata": {},
   "outputs": [],
   "source": [
    "print(int(input(\"Digite um número: \")) + int(input(\"Digite outro número: \")))"
   ]
  },
  {
   "cell_type": "code",
   "execution_count": null,
   "id": "6721de59",
   "metadata": {},
   "outputs": [],
   "source": []
  }
 ],
 "metadata": {
  "language_info": {
   "name": "python"
  }
 },
 "nbformat": 4,
 "nbformat_minor": 5
}
