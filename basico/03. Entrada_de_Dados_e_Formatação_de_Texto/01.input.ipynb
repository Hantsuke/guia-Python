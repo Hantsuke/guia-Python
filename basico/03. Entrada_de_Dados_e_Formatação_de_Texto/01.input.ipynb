{
 "cells": [
  {
   "cell_type": "markdown",
   "id": "b241b5c6",
   "metadata": {},
   "source": [
    "# 🖊️ Função `input()` em Python\n",
    "\n",
    "## 💡 O que é `input()`?\n",
    "O `input()` é parecido com o `print()`, pois também pode exibir uma mensagem na tela, mas **ao contrário do `print()`**, ele **pausa o programa** e espera o usuário digitar algo.  \n",
    "O que o usuário digitar é **sempre retornado como uma string**."
   ]
  },
  {
   "cell_type": "markdown",
   "id": "309a55f0",
   "metadata": {},
   "source": [
    "### Estrutura\n",
    " `input(`mensagem`)`  "
   ]
  },
  {
   "cell_type": "code",
   "execution_count": null,
   "id": "418dc10c",
   "metadata": {},
   "outputs": [],
   "source": [
    "input(\"Digite seu nome: \")"
   ]
  },
  {
   "cell_type": "markdown",
   "id": "cc25b092",
   "metadata": {},
   "source": [
    "Você também pode guardar o valor digitado em uma variável"
   ]
  },
  {
   "cell_type": "code",
   "execution_count": null,
   "id": "94a82b10",
   "metadata": {},
   "outputs": [],
   "source": [
    "\n",
    "nome = input(\"Digite seu nome: \")\n",
    "print(\"Olá,\", nome)"
   ]
  },
  {
   "cell_type": "markdown",
   "id": "c8c41cca",
   "metadata": {},
   "source": [
    "# 🔄 Convertendo para outros tipos\n",
    "Como o input() sempre retorna uma string, se quisermos trabalhar com números ou outros tipos, precisamos converter.  \n",
    "Igual em variável "
   ]
  },
  {
   "cell_type": "markdown",
   "id": "57880832",
   "metadata": {},
   "source": [
    "Voce tem ideia de como conveter o input?\n",
    "\n",
    "input(\"Digite sua idade: \")"
   ]
  },
  {
   "cell_type": "code",
   "execution_count": null,
   "id": "742e9e8e",
   "metadata": {},
   "outputs": [],
   "source": []
  },
  {
   "cell_type": "markdown",
   "id": "bdaf2314",
   "metadata": {},
   "source": [
    "<details>\n",
    "  <summary>💡 Clique aqui para ver a como conveter um imput para int</summary>  \n",
    "  \n",
    "So colocar o **tipo(input (mensagem))**\n",
    "\n",
    "idade = int(input(\"Digite sua idade: \"))  \n",
    "\n",
    "📏 Tipos de conversão comuns:  \n",
    ">- Inteiro (int): Números sem casas decimais  \n",
    ">- Float (float): Números decimais  \n",
    ">- Boolean (bool): Verdadeiro/Falso (usando comparações ou transformando strings)  \n",
    "\n",
    "<details><summary>Como nas variáveis :  </summary>\n",
    "num_str = \"123\"  \n",
    "\n",
    "num_int = int(num_str)     # 123  \n",
    "num_float = float(num_str) # 123.0  \n",
    "num_bool = bool(num_str)   # True  \n",
    " \n",
    "\n",
    "</details>\n",
    "\n",
    "\n",
    "❗ Atenção: se o usuário digitar algo inválido, como \"abc\" onde se espera um número, o programa gera um erro.  \n",
    ">💡 Dica: Se não converter em operações matemáticas causarão erro."
   ]
  },
  {
   "cell_type": "markdown",
   "id": "1c589e66",
   "metadata": {},
   "source": [
    "# 🧰 6. Operações Diretas\n",
    "É possível realizar cálculos diretamente com valores convertidos:"
   ]
  },
  {
   "cell_type": "code",
   "execution_count": null,
   "id": "7000a965",
   "metadata": {},
   "outputs": [],
   "source": [
    "print(int(input(\"Digite um número: \")) + int(input(\"Digite outro número: \")))"
   ]
  },
  {
   "cell_type": "markdown",
   "id": "6cb9420c",
   "metadata": {},
   "source": [
    "# ✨ Várias Entradas de Uma Só Vez\n",
    "O que acontece é que o valor digitado pelo usuário entra na variável, como se você tivesse colocado qualquer outro dado nela. \n",
    "Isso significa que podemos colocar vários dados de uma vez em variáveis diferentes, usando atribuição múltipla:"
   ]
  },
  {
   "cell_type": "code",
   "execution_count": null,
   "id": "6721de59",
   "metadata": {},
   "outputs": [],
   "source": [
    "num1, num2 = int(input(\"Digite dois números separados por espaço: \")).split()\n",
    "print(f\"A soma de {num1} + {num2} = { num1 + num2}\")"
   ]
  },
  {
   "cell_type": "code",
   "execution_count": null,
   "id": "8ccf5fdd",
   "metadata": {},
   "outputs": [],
   "source": [
    "fruta, legume = input(\"Digite uma fruta \"),input(\"Digite um legume \")  \n",
    "print(f\"Fruta: {fruta}, Legume: {legume}\")"
   ]
  },
  {
   "cell_type": "markdown",
   "id": "e2f4dedc",
   "metadata": {},
   "source": [
    "# ⚠️ Sempre explique o que o usuário deve digitar na mensagem do input().  "
   ]
  }
 ],
 "metadata": {
  "kernelspec": {
   "display_name": "Python 3",
   "language": "python",
   "name": "python3"
  },
  "language_info": {
   "codemirror_mode": {
    "name": "ipython",
    "version": 3
   },
   "file_extension": ".py",
   "mimetype": "text/x-python",
   "name": "python",
   "nbconvert_exporter": "python",
   "pygments_lexer": "ipython3",
   "version": "3.11.9"
  }
 },
 "nbformat": 4,
 "nbformat_minor": 5
}
