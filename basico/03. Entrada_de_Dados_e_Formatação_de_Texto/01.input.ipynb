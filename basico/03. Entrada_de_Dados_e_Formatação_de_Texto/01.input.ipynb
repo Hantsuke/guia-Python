{
 "cells": [
  {
   "cell_type": "markdown",
   "id": "b241b5c6",
   "metadata": {},
   "source": [
    "# 🖊️ Input()\n",
    ">**O que é input()**\n",
    "> O `input()` é parecido com o `print()`, pois também exibe uma mensagem na tela, mas ao contrário do `print()`, ele pausa o programa e espera o usuário digitar algo, retornando o que foi digitado como uma string."
   ]
  },
  {
   "cell_type": "markdown",
   "id": "309a55f0",
   "metadata": {},
   "source": [
    "# Estrutura \n",
    "`input(`mensagem`)`  \n",
    "Você pode colocar em uma variavel o valor retornado do input"
   ]
  },
  {
   "cell_type": "code",
   "execution_count": null,
   "id": "94a82b10",
   "metadata": {},
   "outputs": [],
   "source": [
    "nome = input(\"Digite seu nome: \")\n",
    "print(\"Olá,\", nome)"
   ]
  },
  {
   "cell_type": "markdown",
   "id": "c8c41cca",
   "metadata": {},
   "source": [
    "# 🔄 Convertendo para outros tipos\n",
    "Como input() sempre retorna uma string, para trabalhar com números ou outros tipos precisamos converter:"
   ]
  },
  {
   "cell_type": "markdown",
   "id": "57880832",
   "metadata": {},
   "source": [
    "Voce tem ideia de como conveter ?"
   ]
  },
  {
   "cell_type": "code",
   "execution_count": null,
   "id": "742e9e8e",
   "metadata": {},
   "outputs": [],
   "source": []
  },
  {
   "cell_type": "markdown",
   "id": "bdaf2314",
   "metadata": {},
   "source": [
    "<details>\n",
    "  <summary>💡 Clique aqui para ver a como conveter um imput para int</summary>\n",
    "Fazemos igual com uma variavel, so colocar o tipo (input (mensagem))\n",
    "\n",
    "int(input(\"Digite sua idade: \"))\n",
    "\n",
    "\n",
    "> Lambrando que Usamos :  \n",
    ">- 📏 Inteiro (int): Números sem casas decimais.  \n",
    ">- 📏 Float (float): Números decimais.  \n",
    ">- 📏 Bool (bool): Verdadeiro/Falso (usando comparações ou transformando strings)  \n",
    "\n",
    "<details><summary>Como na variaveis :  </summary>\n",
    "num_str = \"123\"  \n",
    "\n",
    "num_int = int(num_str)  \n",
    "num_float = float(num_str)  \n",
    "num_bool = bool(num_str)  \n",
    "\n",
    "</details>\n",
    "\n",
    "\n",
    ">❗ Lembrando: Se o usuário digitar algo inválido, como \"abc\" onde se espera um número, o programa gera um erro.  \n",
    "\n",
    ">💡 Dica: Se não converter, operações matemáticas causarão erro."
   ]
  },
  {
   "cell_type": "markdown",
   "id": "1c589e66",
   "metadata": {},
   "source": [
    "# 🧰 6. Operações Diretas\n",
    "É possível realizar cálculos diretamente com valores convertidos:"
   ]
  },
  {
   "cell_type": "code",
   "execution_count": null,
   "id": "7000a965",
   "metadata": {},
   "outputs": [],
   "source": [
    "print(int(input(\"Digite um número: \")) + int(input(\"Digite outro número: \")))"
   ]
  },
  {
   "cell_type": "markdown",
   "id": "6cb9420c",
   "metadata": {},
   "source": [
    "# ✨ Várias Entradas de Uma Só Vez\n",
    "Quando input em uma variavel podemos pensar nele como qualquer informação sendo colocada dentro dele, entao podemos :  \n",
    "Você pode ler vários valores em uma linha:  \n",
    "\n",
    "a, b = input(\"Digite um numero\")  \n",
    "a, b = input(\"Digite uma fruta \"),input(\"Digite um legume \")  "
   ]
  },
  {
   "cell_type": "code",
   "execution_count": null,
   "id": "6721de59",
   "metadata": {},
   "outputs": [],
   "source": [
    "a, b = input(\"Digite um numero: \")\n",
    "a = int(a)\n",
    "b = int(b)\n",
    "print(f\"A soma de {a} + {b} = { a + b}\")\n"
   ]
  },
  {
   "cell_type": "markdown",
   "id": "e2f4dedc",
   "metadata": {},
   "source": [
    "# ✅ Boas Práticas\n",
    "Sempre explique o que o usuário deve digitar na mensagem do input().\n",
    "Converta os dados logo após a leitura, para evitar erros em cálculos."
   ]
  }
 ],
 "metadata": {
  "language_info": {
   "name": "python"
  }
 },
 "nbformat": 4,
 "nbformat_minor": 5
}
