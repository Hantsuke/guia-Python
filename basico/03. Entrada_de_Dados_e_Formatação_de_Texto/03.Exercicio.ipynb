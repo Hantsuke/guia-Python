{
 "cells": [
  {
   "cell_type": "markdown",
   "id": "651b5e3d",
   "metadata": {},
   "source": [
    "# 📝 Exercício: Trabalhando com \n",
    "\n",
    "---\n",
    "\n",
    "Instruções:\n",
    "\n",
    "\n"
   ]
  }
 ],
 "metadata": {
  "language_info": {
   "name": "python"
  }
 },
 "nbformat": 4,
 "nbformat_minor": 5
}
