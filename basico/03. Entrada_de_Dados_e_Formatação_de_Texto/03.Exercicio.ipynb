{
 "cells": [
  {
   "cell_type": "markdown",
   "id": "651b5e3d",
   "metadata": {},
   "source": [
    "# 📝 Exercícios – Input e Manipulação de Texto\n",
    "---\n",
    "\n",
    "Instruções Gerais:  \n",
    "- Use a função `input()` para receber dados do usuário.  \n",
    "- Converta os dados para o tipo correto, se necessário `(int, float, bool)`.  \n",
    "- Use f-strings para exibir mensagens claras.  \n",
    "- Use operações de manipulação de strings (`upper()`, `lower()`, `strip()`, `split()`, `join()`, `replace())` quando solicitado.  \n",
    "- Inclua comentários explicando cada passo do código.  \n",
    "- Organize a saída com quebras de linha `(\\n)` ou tabulação `(\\t)` quando fizer sentido.  \n",
    "- Sempre explique ao usuário, na mensagem do `input()`, o que ele deve digitar.  \n"
   ]
  },
  {
   "cell_type": "markdown",
   "id": "04a65fec",
   "metadata": {},
   "source": [
    "---"
   ]
  },
  {
   "cell_type": "markdown",
   "id": "37d32108",
   "metadata": {},
   "source": [
    "> Peça ao usuário para digitar sua idade e seu peso.  \n",
    "> Converta a idade para int e o peso para float.  \n",
    "> Mostre em uma mensagem usando f-string:  "
   ]
  },
  {
   "cell_type": "code",
   "execution_count": null,
   "id": "12cc2440",
   "metadata": {},
   "outputs": [],
   "source": []
  },
  {
   "cell_type": "markdown",
   "id": "084b2715",
   "metadata": {},
   "source": [
    ">Peça ao usuário para digitar dois números separados por espaço.  \n",
    "Separe os números, converta-os para int e some-os.  \n",
    "Mostre o resultado em uma frase usando f-string:  "
   ]
  },
  {
   "cell_type": "code",
   "execution_count": null,
   "id": "d4259c5f",
   "metadata": {},
   "outputs": [],
   "source": []
  },
  {
   "cell_type": "markdown",
   "id": "679b29ed",
   "metadata": {},
   "source": [
    ">Peça ao usuário para digitar seu nome completo.  \n",
    "Mostre o nome em:  \n",
    "- Maiúsculas  \n",
    "- Minúsculas  \n",
    "- Sem espaços extras no início ou fim  "
   ]
  },
  {
   "cell_type": "code",
   "execution_count": null,
   "id": "6cefdb8b",
   "metadata": {},
   "outputs": [],
   "source": []
  },
  {
   "cell_type": "markdown",
   "id": "deeb6a14",
   "metadata": {},
   "source": [
    ">Peça ao usuário para digitar três itens de supermercado separados por vírgula.  \n",
    "Exiba os itens em colunas usando \\t e em linhas separadas usando \\n. "
   ]
  },
  {
   "cell_type": "code",
   "execution_count": null,
   "id": "e5ece3aa",
   "metadata": {},
   "outputs": [],
   "source": []
  },
  {
   "cell_type": "markdown",
   "id": "e78afefa",
   "metadata": {},
   "source": [
    ">Peça ao usuário para digitar uma data no formato DD/MM/AAAA.  \n",
    "Separe dia, mês e ano usando split().  \n",
    "Troque o separador para - usando join().  \n",
    "Exiba a data formatada.  "
   ]
  },
  {
   "cell_type": "code",
   "execution_count": null,
   "id": "98e8d553",
   "metadata": {},
   "outputs": [],
   "source": []
  }
 ],
 "metadata": {
  "language_info": {
   "name": "python"
  }
 },
 "nbformat": 4,
 "nbformat_minor": 5
}
