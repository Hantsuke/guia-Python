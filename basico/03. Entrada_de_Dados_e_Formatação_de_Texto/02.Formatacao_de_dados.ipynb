{
 "cells": [
  {
   "cell_type": "markdown",
   "id": "dde83025",
   "metadata": {},
   "source": [
    "# 📝 Formatação e Manipulação de Texto em Python\n",
    "Em Python, strings são sequências de caracteres e suportam várias operações para formatação e manipulação."
   ]
  },
  {
   "cell_type": "markdown",
   "id": "dfe76052",
   "metadata": {},
   "source": [
    "# +  Unir strings\n",
    "Você pode juntar strings diretamente usando o operador `+`:"
   ]
  },
  {
   "cell_type": "code",
   "execution_count": null,
   "id": "8037322a",
   "metadata": {},
   "outputs": [],
   "source": [
    "nome = \"Maria\"\n",
    "sobrenome = \"Fernanda\"\n",
    "\n",
    "nome_completo = nome + \" \" + sobrenome\n",
    "print(nome_completo)  # Saída: Maria Fernanda"
   ]
  },
  {
   "cell_type": "markdown",
   "id": "469f86f0",
   "metadata": {},
   "source": [
    "Concatenar muitas strings usando + pode ficar menos eficiente e menos legível do que usar join() ou f-strings."
   ]
  },
  {
   "cell_type": "markdown",
   "id": "ad1b7de4",
   "metadata": {},
   "source": [
    "# 📈 Quebras de linha e tabulação\n",
    "Sabemos que para **quebrar a linha** usamos : `\\n`  \n",
    "Para **tabulação**(organizar dados em colunas e linhas) usamos : `\\t`"
   ]
  },
  {
   "cell_type": "code",
   "execution_count": null,
   "id": "ceddfbe7",
   "metadata": {},
   "outputs": [],
   "source": [
    "print(\"Linha 1\\nLinha 2\")\n",
    "print(\"Coluna1\\tColuna2\\tColuna3\")"
   ]
  },
  {
   "cell_type": "markdown",
   "id": "384454d3",
   "metadata": {},
   "source": [
    "# ⛓️‍💥 split – Separar strings\n",
    "\n",
    "A função `split()` divide uma string em uma lista, usando um separador:"
   ]
  },
  {
   "cell_type": "code",
   "execution_count": null,
   "id": "4817cb75",
   "metadata": {},
   "outputs": [],
   "source": [
    "frase = \"Python é incrível\"\n",
    "palavras = frase.split()  # Por padrão, separa por espaços\n",
    "print(palavras)\n",
    "# Saída: ['Python', 'é', 'incrível']"
   ]
  },
  {
   "cell_type": "markdown",
   "id": "6faf6357",
   "metadata": {},
   "source": [
    "Com separador específico:"
   ]
  },
  {
   "cell_type": "code",
   "execution_count": null,
   "id": "b5c5f20b",
   "metadata": {},
   "outputs": [],
   "source": [
    "data = \"25/12/2025\"\n",
    "partes = data.split(\"/\")  \n",
    "print(partes)\n",
    "# Saída: ['25', '12', '2025']"
   ]
  },
  {
   "cell_type": "markdown",
   "id": "ed51e17f",
   "metadata": {},
   "source": [
    "# 🧩 join() – Unir strings\n",
    "O método `join()` une uma lista de strings em uma única string, usando um separador:"
   ]
  },
  {
   "cell_type": "code",
   "execution_count": null,
   "id": "5e78d7ad",
   "metadata": {},
   "outputs": [],
   "source": [
    "palavras = ['Python', 'é', 'incrível']\n",
    "frase = \" \".join(palavras)\n",
    "print(frase)\n",
    "# Saída: Python é incrível"
   ]
  },
  {
   "cell_type": "markdown",
   "id": "eb60619a",
   "metadata": {},
   "source": [
    "Exemplo com outro separador:"
   ]
  },
  {
   "cell_type": "code",
   "execution_count": null,
   "id": "296e1aaa",
   "metadata": {},
   "outputs": [],
   "source": [
    "data = ['25', '12', '2025']\n",
    "print(\"/\".join(data))\n",
    "# Saída: 25/12/2025"
   ]
  },
  {
   "cell_type": "markdown",
   "id": "e684a504",
   "metadata": {},
   "source": [
    "# 🧹Alterações e limpeza de strings\n",
    "`upper()` → tudo maiúsculo  \n",
    "`lower()` → tudo minúsculo  \n",
    "`strip()` → remove espaços extras no início/fim  "
   ]
  },
  {
   "cell_type": "code",
   "execution_count": null,
   "id": "85d6a200",
   "metadata": {},
   "outputs": [],
   "source": [
    "texto = \"  Python  \"\n",
    "print(texto.upper())  # PYTHON\n",
    "print(texto.lower())  # python\n",
    "print(texto.strip())  # Python"
   ]
  },
  {
   "cell_type": "markdown",
   "id": "93cd1e89",
   "metadata": {},
   "source": [
    "# Substituição e pesquisa\n",
    "`replace()` → substitui parte do texto  \n",
    "`find()` → retorna a posição de uma substring (ou -1 se não existir)  "
   ]
  },
  {
   "cell_type": "code",
   "execution_count": null,
   "id": "229c63ba",
   "metadata": {},
   "outputs": [],
   "source": [
    "frase = \"Eu gosto de Python\"\n",
    "nova_frase = frase.replace(\"Python\", \"Java\")\n",
    "print(nova_frase)  # Saída: Eu gosto de Java\n",
    "\n",
    "pos = frase.find(\"Python\")\n",
    "print(pos)  # Saída: 12"
   ]
  }
 ],
 "metadata": {
  "kernelspec": {
   "display_name": "Python 3",
   "language": "python",
   "name": "python3"
  },
  "language_info": {
   "codemirror_mode": {
    "name": "ipython",
    "version": 3
   },
   "file_extension": ".py",
   "mimetype": "text/x-python",
   "name": "python",
   "nbconvert_exporter": "python",
   "pygments_lexer": "ipython3",
   "version": "3.11.9"
  }
 },
 "nbformat": 4,
 "nbformat_minor": 5
}
