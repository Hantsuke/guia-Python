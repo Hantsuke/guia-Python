{
 "cells": [
  {
   "cell_type": "code",
   "execution_count": null,
   "id": "a442d4db",
   "metadata": {},
   "outputs": [
    {
     "data": {
      "text/plain": [
       "int"
      ]
     },
     "execution_count": 2,
     "metadata": {},
     "output_type": "execute_result"
    }
   ],
   "source": [
    "#Agora, podemos começar com variáveis e tipos de dados:\n",
    "\"\"\"\n",
    "    Variáveis:\n",
    "        São usadas para armazenar e editar valores, como caixas com etiquetas.\n",
    "        Sem variáveis, os programas não teriam memória. São como caixas onde guardamos valores para usar mais tarde\n",
    "        Em Python, existem diferentes tipos de dados:\n",
    "\"\"\"\n",
    "idade = 25               # Números inteiros (int), sem parte decimal\n",
    "altura = 1.75            # Variável do tipo float, com parte decimal\n",
    "nome = \"João\"            # Variável do tipo string, entre aspas duplas(\") ou simples(')\n",
    "estudando = True         # Variável do tipo booleano, True ou False \n",
    "\n",
    "#Perceba que não aparece o que tem e tipo da variável, mas podemos descobrir com a função type():\n",
    "             # Como no print() para utilizar a função type() colocamos o nome da variável entre parênteses:\n",
    "\n",
    "#                       type(idade)\n",
    "\n",
    "#               Voce tem uma ideia de como usar o print() para descobrir o tipo da variável idade? \n",
    "#Sabendo que o print() é usado para exibir informações na tela e o type() para descobrir o tipo de uma variável."
   ]
  },
  {
   "cell_type": "code",
   "execution_count": null,
   "id": "dee61ce5",
   "metadata": {},
   "outputs": [],
   "source": [
    "#Escreva o código abaixo para descobrir o tipo da variável idade (Lembre-se fora do comentário):\n",
    "#   Primeiro escreva rode e só depois veja a resposta :(esta no final da linha) __________________________________________________________________________________________________________________________________________________________________________________________________________________________________________________________________________________________________________________________________________________________________________________________________________________________________________________________________________________________________________________________________________________________________________________________________________________________________________print(type(idade))\n",
    "\n"
   ]
  },
  {
   "cell_type": "code",
   "execution_count": null,
   "id": "070c38f5",
   "metadata": {},
   "outputs": [],
   "source": [
    "#Agora que aprendemos sobre o type(), podemos continuar com as variáveis e tipos de dados.\n",
    "#Nomeando variáveis:\n",
    "\n",
    "\"\"\"\n",
    "    - Devem começar com uma letra ou um sublinhado (_).\n",
    "    - Podem conter letras, números e sublinhados.\n",
    "    - Não podem conter espaços ou caracteres especiais (@, #, etc.).\n",
    "    - São sensíveis a maiúsculas e minúsculas (case-sensitive).\n",
    "    - Não podem ser palavras reservadas do Python (como print, type, if etc...).\n",
    "    \n",
    "    E o mais importante:\n",
    "     - Devem ter nomes descritivos que indiquem o propósito da variável.\n",
    "       Exemplos:\n",
    "       idade=25, salario_mensal=3000, nome_completo=\"Maria Silva\"\n",
    "        Pois se você usar nomes como x, y, z, a, b, c, etc... Você pode esquecer o que cada variável representa, especialmente em programas maiores.\n",
    "\"\"\"\n",
    "\n",
    "#           Exemplos de nomes de variáveis válidos:\n",
    "\n",
    "idade = 25\n",
    "salario_mensal = 3000\n",
    "nome_completo = \"Maria Silva\"\n",
    "_estudante = True\n",
    "nota1 = 8.5\n",
    "nota2 = 9.0\n"
   ]
  },
  {
   "cell_type": "code",
   "execution_count": null,
   "id": "d23e9772",
   "metadata": {},
   "outputs": [
    {
     "ename": "SyntaxError",
     "evalue": "invalid decimal literal (976766023.py, line 4)",
     "output_type": "error",
     "traceback": [
      "  \u001b[36mCell\u001b[39m\u001b[36m \u001b[39m\u001b[32mIn[3]\u001b[39m\u001b[32m, line 4\u001b[39m\n\u001b[31m    \u001b[39m\u001b[31m1nome = \"João\"          # Começa com um número\u001b[39m\n    ^\n\u001b[31mSyntaxError\u001b[39m\u001b[31m:\u001b[39m invalid decimal literal\n"
     ]
    }
   ],
   "source": [
    "#           Exemplos de nomes de variáveis inválidos:\n",
    "\n",
    "x=10                   # Muito genérico\n",
    "1nome = \"João\"          # Começa com um número\n",
    "salário$ = 3000        # Contém um caractere especial ($)\n",
    "nome completo = \"Ana\"   # Contém um espaço\n",
    "for = 10               # Usa uma palavra reservada do Python\n",
    "#Inicie o codigo acima para ver os erros que ocorrem ao tentar criar variáveis com nomes inválidos."
   ]
  },
  {
   "cell_type": "code",
   "execution_count": null,
   "id": "a48c28bb",
   "metadata": {},
   "outputs": [],
   "source": [
    "#Percebeu que atribuimos os valores as variáveis com o sinal de igual (=)?\n",
    "#Mas podemos mudar o valor de uma variável a qualquer momento:\n",
    "\n",
    "idade = 25  # A variável idade tem o valor 25\n",
    "print(idade)  # Isso exibirá 30\n",
    "idade = 30  # Agora, a variável idade tem o valor 30\n",
    "print(idade)  # Isso exibirá 30\n",
    "\n",
    "#Podemos atribuir valores a mais de uma variável na mesma linha:\n",
    "x, y, z = 1, 2, 3  # Atribui 1 a x, 2 a y e 3 a z\n",
    "print(x, y, z)  # Isso exibirá 1 2 3\n",
    "#Tambem podemos fazer isso com o mesmo valor:\n",
    "a = b = c = 10  # Atribui 10 a a, b e c\n",
    "print(a, b, c)  # Isso exibirá 10 10 10\n",
    "\n",
    "#Podemos tambem atribuir o valor de uma variável a outra:\n",
    "idade = 25\n",
    "nova_idade = idade  # nova_idade agora tem o valor de idade (25)\n",
    "print(nova_idade)  # Isso exibirá 25\n",
    "\n",
    "#Podemos fazer operações com variáveis numéricas:\n",
    "idade = 25\n",
    "idade_mais_cinco = idade + 5  # Adiciona 5 a idade"
   ]
  },
  {
   "cell_type": "code",
   "execution_count": null,
   "id": "0ba835c5",
   "metadata": {},
   "outputs": [],
   "source": [
    "#Tipagem dinâmica e conversão\n",
    "#Em Python, você não precisa declarar o tipo de uma variável explicitamente. O tipo é inferido automaticamente com base no valor atribuído.\n",
    "#Isso é conhecido como tipagem dinâmica.\n",
    "#Você pode mudar o tipo de uma variável atribuindo um valor de um tipo diferente ou por meio de conversão explícita:\n",
    "valor = 10  # Inicialmente, valor é um inteiro\n",
    "print(type(valor))  # Isso exibirá <class 'int'>\n",
    "\n",
    "valor = str(valor)  # Converte valor para string\n",
    "print(type(valor))  # Isso exibirá <class 'str'>\n",
    "\n",
    "#Podemos fazer conversão entre tipos de dados:\n",
    "#int <-> float <-> str <-> bool \n",
    "\n",
    "num_inteiro = 10\n",
    "print(num_inteiro)  # Isso exibirá 10\n",
    "num_float = float(num_inteiro)  # Converte int para float\n",
    "print(num_float)  # Isso exibirá 10.0\n",
    "num_str = str(num_inteiro)  # Converte int para string\n",
    "print(num_str)  # Isso exibirá \"10\"\n",
    "num_bool = bool(num_inteiro)  # Converte int para booleano\n",
    "print(num_bool)  # Isso exibirá True (qualquer número diferente de zero é True)\n"
   ]
  },
  {
   "cell_type": "code",
   "execution_count": null,
   "id": "66ade84b",
   "metadata": {},
   "outputs": [
    {
     "ename": "ValueError",
     "evalue": "invalid literal for int() with base 10: 'abc'",
     "output_type": "error",
     "traceback": [
      "\u001b[31m---------------------------------------------------------------------------\u001b[39m",
      "\u001b[31mValueError\u001b[39m                                Traceback (most recent call last)",
      "\u001b[36mCell\u001b[39m\u001b[36m \u001b[39m\u001b[32mIn[1]\u001b[39m\u001b[32m, line 3\u001b[39m\n\u001b[32m      1\u001b[39m \u001b[38;5;66;03m#Perceba que a conversão de string para int ou float só funciona se a string representar um número válido:\u001b[39;00m\n\u001b[32m      2\u001b[39m str_num = \u001b[33m\"\u001b[39m\u001b[33mabc\u001b[39m\u001b[33m\"\u001b[39m \u001b[38;5;66;03m# String que não representa um número\u001b[39;00m\n\u001b[32m----> \u001b[39m\u001b[32m3\u001b[39m num_convertido = \u001b[38;5;28;43mint\u001b[39;49m\u001b[43m(\u001b[49m\u001b[43mstr_num\u001b[49m\u001b[43m)\u001b[49m  \u001b[38;5;66;03m# Isso causará um erro\u001b[39;00m\n\u001b[32m      4\u001b[39m \u001b[38;5;28mprint\u001b[39m(num_convertido)  \u001b[38;5;66;03m# Isso não será executado devido ao erro anterior\u001b[39;00m\n",
      "\u001b[31mValueError\u001b[39m: invalid literal for int() with base 10: 'abc'"
     ]
    }
   ],
   "source": [
    "\n",
    "#Perceba que a conversão de string para int ou float só funciona se a string representar um número válido:\n",
    "str_num = \"abc\" # String que não representa um número\n",
    "num_convertido = int(str_num)  # Isso causará um erro\n",
    "print(num_convertido)  # Isso não será executado devido ao erro anterior\n",
    "#Execute o codigo acima para ver o erro que ocorre ao tentar converter uma string não numérica para um inteiro."
   ]
  },
  {
   "cell_type": "code",
   "execution_count": null,
   "id": "cca0a429",
   "metadata": {},
   "outputs": [],
   "source": [
    "nome = \"Ana\"\n",
    "idade = 28\n",
    "\n",
    "#Print Com Variáveis\n",
    "\n",
    "    #O print() pode exibir o valor de variáveis.\n",
    "print(nome)\n",
    "    #Você pode passar múltiplas variáveis para o print(), separadas por vírgulas.\n",
    "print(nome, idade)\n",
    "    #Também pode imprimir texto junto com variáveis.\n",
    "print(\"Nome:\", nome, \"Idade:\", idade)\n",
    "    #Tambem é possível formatar a saída usando f-strings, so precisa colocar a letra f antes das aspas e usar chaves {} para incluir variáveis dentro da string.\n",
    "print(f\"Nome: {nome}, Idade: {idade}\")\n",
    "\n",
    "\n",
    "\n",
    "\n",
    "#Tudo que voce faz com numeros voce pode fazer com variaveis que armazenam numeros, e o mesmo vale para strings e booleanos.\n",
    "numero_cinco = 5\n",
    "numero_dez = 10\n",
    "soma = numero_cinco + numero_dez  # Soma de variáveis\n",
    "print(soma)  # Isso exibirá 15\n",
    "#Ou se quiser fazer direto no print: mas nesse caso nao armazena o resultado em uma variavel\n",
    "print(numero_cinco + numero_dez)  # Soma de variáveis\n",
    "\n",
    "print(numero_cinco * 2)  # Multiplicação\n",
    "print(numero_dez - numero_dez)  # Subtração\n",
    "print(numero_dez / 2)  # Divisão\n",
    "print(numero_dez // numero_dez)  # Divisão inteira\n",
    "\n",
    "#Pode usar operadores de comparação que retornam booleanos:\n",
    "print(numero_cinco > numero_dez)  # Maior que (False)\n",
    "print(numero_cinco < numero_dez)  # Menor que (True)\n",
    "print(numero_cinco == 5)  # Igual a (True)\n",
    "print(numero_cinco != numero_dez)  # Diferente de (True)\n",
    "print(numero_cinco >= 5)  # Maior ou igual a (True)"
   ]
  }
 ],
 "metadata": {
  "kernelspec": {
   "display_name": "Python 3",
   "language": "python",
   "name": "python3"
  },
  "language_info": {
   "codemirror_mode": {
    "name": "ipython",
    "version": 3
   },
   "file_extension": ".py",
   "mimetype": "text/x-python",
   "name": "python",
   "nbconvert_exporter": "python",
   "pygments_lexer": "ipython3",
   "version": "3.11.9"
  }
 },
 "nbformat": 4,
 "nbformat_minor": 5
}
