{
 "cells": [
  {
   "cell_type": "code",
   "execution_count": null,
   "id": "3bb2fdb1",
   "metadata": {},
   "outputs": [],
   "source": [
    "#                       Aula 2 — Operadores\n",
    "\"\"\"\n",
    "Objetivo: \n",
    "    aprender mais sobre o `print()` e operadores aritméticos e comparações.\n",
    "\"\"\""
   ]
  },
  {
   "cell_type": "code",
   "execution_count": null,
   "id": "3fd542f4",
   "metadata": {},
   "outputs": [],
   "source": [
    "#Operadores \n",
    "#Os operadores permitem manipular valores e variáveis. \n",
    "# Eles podem ser usados para calcular resultados, comparar valores e tomar decisões no código."
   ]
  },
  {
   "cell_type": "code",
   "execution_count": null,
   "id": "a3c4486b",
   "metadata": {},
   "outputs": [],
   "source": [
    "\n",
    "# Operadores aritméticos\n",
    "\n",
    "#Os operadores aritméticos são usados para realizar operações matemáticas básicas, como adição, subtração, multiplicação, divisão, resto da divisão, potência e divisão inteira.\n",
    "# Eles são fundamentais para cálculos numéricos em programas.\n",
    "\n",
    "print(10 + 5) #     10 + 5  =  15           + Adição\n",
    "print(10 - 5)#      10 - 5  =  5            - Subtração\n",
    "print(10 * 5)#      10 * 5  =  50           * Multiplicação\n",
    "print(10 / 5) #     10 / 5  =  2.0          / Divisão\n",
    "print(10 % 5)  #    10 % 5  =  0            % Resto da divisão\n",
    "print(10 ** 5) #    10 ** 5 =  100000       ** Potência\n",
    "print(10 // 5) #    10 // 5 =  2             // Divisão inteira\n",
    "                                                \n",
    "\n",
    "# Lembre-se que primeiro são feitas as multiplicações e divisões, depois as somas e subtrações. a menos que você use parênteses para mudar a ordem.\n",
    "print(10 + 5 * 2)  # Resultado: 20\n",
    "print((10 + 5) * 2)  # Resultado: 30\n"
   ]
  },
  {
   "cell_type": "code",
   "execution_count": null,
   "id": "b51c8a58",
   "metadata": {},
   "outputs": [],
   "source": [
    "# Operadores de comparação\n",
    "\n",
    "# Os operadores de comparação são usados para comparar dois valores\n",
    "# e retornam um valor booleano (True ou False) com base na comparação.\n",
    "# Eles são essenciais para controle de fluxo e tomada de decisões em programas.\n",
    "\n",
    "print(10 > 5)   # 10 > 5   = True    >  Maior que\n",
    "print(10 < 5)   # 10 < 5   = False   <  Menor que\n",
    "print(10 >= 5)  # 10 >= 5  = True    >= Maior ou igual a\n",
    "print(10 <= 5)  # 10 <= 5  = False   <= Menor ou igual a\n",
    "print(10 == 5)  # 10 == 5  = False   == Igual a\n",
    "print(10 != 5)  # 10 != 5  = True    != Diferente de\n",
    "\n",
    "\n",
    "    #__________________Dica o > sempre aponta para o maior valor_____________________"
   ]
  },
  {
   "cell_type": "code",
   "execution_count": null,
   "id": "4f70cb0b",
   "metadata": {},
   "outputs": [],
   "source": [
    "#Podemos combinar mais de um operador aritmético em uma única expressão.\n",
    "\n",
    "print(10 + 5 * 2)           # Resultado: 20\n",
    "print((10+5) * (4/2)**2)    # Resultado: 60.0\n",
    "print(10+5 * 4/2**2)        # Resultado: 15.0\n",
    "print(10+5 - 3 * 2 / 1)     # Resultado: 11.0\n",
    "\n",
    "\n",
    "#Podemos combinar operadores aritméticos e de comparação para criar expressões mais complexas.\n",
    "\n",
    "print((10 + 5) > (20 - 5))      # False, porque\n",
    "                                # 15 é maior que 15\n",
    "\n",
    "print((10 * 2) == (5 + 15))     # True, porque\n",
    "                                # 20 é igual a 20\n",
    "                                \n",
    "print((10 / 2) <= (5 * 2))      # True, porque\n",
    "                                # 5 é menor ou igual a 10\n",
    "\n",
    "                "
   ]
  },
  {
   "cell_type": "code",
   "execution_count": null,
   "id": "4e94477e",
   "metadata": {},
   "outputs": [],
   "source": [
    "#Agora que você conhece os operadores de aritméticos e de comparação, você pode usá-los para realizar alguns pequenos cálculos e comparações em Python."
   ]
  }
 ],
 "metadata": {
  "kernelspec": {
   "display_name": "Python 3",
   "language": "python",
   "name": "python3"
  },
  "language_info": {
   "codemirror_mode": {
    "name": "ipython",
    "version": 3
   },
   "file_extension": ".py",
   "mimetype": "text/x-python",
   "name": "python",
   "nbconvert_exporter": "python",
   "pygments_lexer": "ipython3",
   "version": "3.11.9"
  }
 },
 "nbformat": 4,
 "nbformat_minor": 5
}
