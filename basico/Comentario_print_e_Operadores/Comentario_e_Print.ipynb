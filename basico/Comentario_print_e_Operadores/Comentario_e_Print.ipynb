{
 "cells": [
  {
   "cell_type": "code",
   "execution_count": null,
   "id": "23e0793a",
   "metadata": {},
   "outputs": [],
   "source": [
    "#                       Aula 1 — Comentários, print e Operadores\n",
    "\"\"\"\n",
    "Objetivo: \n",
    "    aprender comentários, `print()`.\n",
    "\"\"\""
   ]
  },
  {
   "cell_type": "code",
   "execution_count": null,
   "id": "147cdd4d",
   "metadata": {},
   "outputs": [],
   "source": [
    "\"\"\"\n",
    "Primeiramente, vamos entender o que são comentários em Python.\n",
    "Comentarios\n",
    "O que são: Comentários são recadinhos no seu código. \n",
    "    Eles não aparecem para o computador, só para humanos — tipo um post-it colado no seu caderno.  \n",
    "    \n",
    "    Eles ajudam a tornar o código mais legível e compreensível para humanos.\n",
    "\n",
    "\n",
    "                                Tipos de comentários:\n",
    "\"\"\"\n",
    "    #1. Comentários de linha única: começam com o símbolo # e continuam até o final da linha.\n",
    "\"\"\"\n",
    "    2.Comentários de múltiplas linhas:     \n",
    "        podem ser feitos usando três aspas simples (''') ou três aspas duplas (\"\"\""
   ]
  },
  {
   "cell_type": "code",
   "execution_count": null,
   "id": "0cafea2a",
   "metadata": {},
   "outputs": [],
   "source": [
    "#print()\n",
    "\"\"\"\n",
    "O print() é uma função embutida em Python que exibe informações na tela, podendo colocar o que quiser dentro dos parênteses e quantas vezes quiser.\n",
    "Ele pode imprimir texto, números, variáveis e outros tipos de dados.\n",
    " \n",
    "    * Para imprimir uma mensagem, você coloca o texto entre aspas dentro dos parênteses do print().\n",
    "\n",
    "    Sintaxe básica:\n",
    "print(\"mensagem\")\n",
    "\"\"\""
   ]
  },
  {
   "cell_type": "code",
   "execution_count": null,
   "id": "1f63b4c6",
   "metadata": {},
   "outputs": [],
   "source": [
    "#Escrevi em baixo um exemplo de print() com uma mensagem \n",
    "print(\"Bem-vindo ao mundo da programação em Python!\")"
   ]
  },
  {
   "cell_type": "code",
   "execution_count": null,
   "id": "a6693f38",
   "metadata": {},
   "outputs": [],
   "source": [
    "#Agora é sua vez! Escreva um print() que exiba uma mensagem personalizada.\n"
   ]
  },
  {
   "cell_type": "code",
   "execution_count": null,
   "id": "3fe4d9d1",
   "metadata": {},
   "outputs": [],
   "source": [
    "#Se precisarmos quebrar linha no print() usamos \\n\n",
    "print(\"Olá, Mundo!\\nBem-vindo ao Python.\")"
   ]
  },
  {
   "cell_type": "code",
   "execution_count": null,
   "id": "bafb0a68",
   "metadata": {},
   "outputs": [],
   "source": [
    "#Faça um print() que exiba uma mensagem em duas linhas, usando \\n para quebrar a linha.\n"
   ]
  },
  {
   "cell_type": "code",
   "execution_count": null,
   "id": "02b39aa7",
   "metadata": {},
   "outputs": [],
   "source": [
    "#Continuaremos com o print() no próximo tema : Operadores"
   ]
  }
 ],
 "metadata": {
  "language_info": {
   "name": "python"
  }
 },
 "nbformat": 4,
 "nbformat_minor": 5
}
