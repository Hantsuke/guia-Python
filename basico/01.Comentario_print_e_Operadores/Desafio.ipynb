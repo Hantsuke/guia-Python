{
 "cells": [
  {
   "cell_type": "markdown",
   "id": "c3b39738",
   "metadata": {},
   "source": [
    "# 🔥DESAFIO ADICIONAL – Farmácia\n",
    "\n",
    "> Imagine que a farmácia possui três medicamentos com os seguintes dados:  \n",
    "> - Medicamento A: 20 unidades a R$ 3 cada  \n",
    "> - Medicamento B: 15 unidades a R$ 5 cada  \n",
    "> - Medicamento C: 25 unidades a R$ 2 cada  \n",
    ">\n",
    "> **Objetivo:** Sem criar variáveis, use apenas `print()` e operadores para:  \n",
    "> 1) Mostrar o **estoque total** somando todas as unidades  \n",
    "> 2) Mostrar o **faturamento total** se todas forem vendidas  \n",
    "> 3) Verificar se o **estoque total** é maior que 50  \n",
    "> 4) Verificar se o **faturamento total** é maior que 100  \n",
    ">\n",
    "> Inclua mensagens claras e quebras de linha (`\\n`).\n",
    "---"
   ]
  },
  {
   "cell_type": "markdown",
   "id": "29fbf820",
   "metadata": {},
   "source": [
    "> 📝 O que é um desafio?\n",
    "\n",
    "O desafio será parecido com a atividade anterior, mas mais **geral e um pouco mais complexo**.  \n",
    "O objetivo é **pensar por conta própria**, organizar suas ideias e **resolver o problema passo a passo**, sem instruções detalhadas.\n",
    "\n",
    "Ele ajuda a **praticar, testar soluções e desenvolver raciocínio lógico**, simulando situações reais.  \n",
    "\n",
    "💡 **Dica:** Analise cada parte do problema e vá resolvendo passo a passo. Errar faz parte do aprendizado!\n",
    "\n",
    "---\n"
   ]
  },
  {
   "cell_type": "markdown",
   "id": "0e854f98",
   "metadata": {},
   "source": [
    "<details>\n",
    "  <summary>💡 Clique aqui para ver a solução quando acabar</summary>\n",
    "\n",
    "```python\n",
    "# 🔹 Estoque total\n",
    "print(\"Estoque total:\")\n",
    "print(20 + 15 + 25)\n",
    "\n",
    "# 🔹 Faturamento total\n",
    "print(\"\\nFaturamento total:\")\n",
    "print(20*3 + 15*5 + 25*2)\n",
    "\n",
    "# 🔹 Verificar se estoque total > 50\n",
    "print(\"\\nEstoque total maior que 50?\")\n",
    "print((20 + 15 + 25) > 50)\n",
    "\n",
    "# 🔹 Verificar se faturamento total > 100\n",
    "print(\"\\nFaturamento total maior que 100?\")\n",
    "print((20*3 + 15*5 + 25*2) > 100)"
   ]
  },
  {
   "cell_type": "markdown",
   "id": "de4441fa",
   "metadata": {},
   "source": [
    "---"
   ]
  },
  {
   "cell_type": "code",
   "execution_count": null,
   "id": "847103db",
   "metadata": {},
   "outputs": [],
   "source": []
  }
 ],
 "metadata": {
  "language_info": {
   "name": "python"
  }
 },
 "nbformat": 4,
 "nbformat_minor": 5
}
