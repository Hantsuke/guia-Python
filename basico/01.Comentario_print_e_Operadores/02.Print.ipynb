{
 "cells": [
  {
   "cell_type": "markdown",
   "id": "f39bcb3b",
   "metadata": {},
   "source": [
    "# 🖨️ Função `print()` em Python\n",
    "\n",
    "> **💡 O que é o `print()`?**  \n",
    "> O `print()` é uma **função embutida** em Python que exibe informações na tela.  \n",
    "> Você pode colocar **qualquer coisa** dentro dos parênteses e imprimir quantas vezes quiser.  \n",
    "> Ele pode exibir **texto, números, variáveis e outros tipos de dados**.\n",
    "\n",
    "---\n",
    "\n",
    "## 🔹 Como imprimir uma mensagem\n",
    "\n",
    "- Coloque o **texto entre aspas** dentro dos parênteses do `print()`.\n",
    "\n"
   ]
  },
  {
   "cell_type": "code",
   "execution_count": null,
   "id": "1f63b4c6",
   "metadata": {},
   "outputs": [],
   "source": [
    "print(\"Bem-vindo ao mundo da programação em Python!\")"
   ]
  },
  {
   "cell_type": "code",
   "execution_count": null,
   "id": "a6693f38",
   "metadata": {},
   "outputs": [],
   "source": [
    "\n",
    "#Agora é sua vez! Escreva um print() que exiba uma mensagem personalizada.(Lembre-se fora do comentário)\n"
   ]
  },
  {
   "cell_type": "markdown",
   "id": "8cb4c89b",
   "metadata": {},
   "source": [
    "# 🔹 Quebrando linhas no `print()`\n",
    "\n",
    "> **💡 Dica:**  \n",
    "> Use `\\n` para criar uma **nova linha** dentro do texto exibido pelo `print()`.  \n",
    "> Ele **pode ser colocado em qualquer parte dentro das aspas**."
   ]
  },
  {
   "cell_type": "code",
   "execution_count": null,
   "id": "838f6d85",
   "metadata": {},
   "outputs": [],
   "source": [
    "print(\"Olá, Mundo!\\nBem-vindo ao Python.\")"
   ]
  },
  {
   "cell_type": "markdown",
   "id": "77677908",
   "metadata": {},
   "source": [
    "> **🔹 Desafio: mensagem em duas linhas usando \\n**  \n",
    "> Faça um print() que exiba uma mensagem em duas linhas, usando \\n para quebrar a linha"
   ]
  },
  {
   "cell_type": "code",
   "execution_count": null,
   "id": "bafb0a68",
   "metadata": {},
   "outputs": [],
   "source": []
  }
 ],
 "metadata": {
  "language_info": {
   "name": "python"
  }
 },
 "nbformat": 4,
 "nbformat_minor": 5
}
