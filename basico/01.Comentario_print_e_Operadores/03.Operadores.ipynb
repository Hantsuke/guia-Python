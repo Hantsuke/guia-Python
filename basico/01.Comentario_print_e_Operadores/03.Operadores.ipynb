{
 "cells": [
  {
   "cell_type": "markdown",
   "id": "ec570ece",
   "metadata": {},
   "source": [
    "# ⚡ Operadores em Python\n",
    "\n",
    "> **💡 O que são operadores?**  \n",
    "> Operadores permitem **manipular valores e variáveis**.  \n",
    "> Eles podem ser usados para:  \n",
    "> - Calcular resultados (operadores matemáticos)  \n",
    "> - Comparar valores (operadores de comparação)  \n",
    "> - Tomar decisões no código (operadores lógicos)"
   ]
  },
  {
   "cell_type": "markdown",
   "id": "400be6d1",
   "metadata": {},
   "source": [
    "# ➕ Operadores Aritméticos em Python\n",
    "\n",
    "> **💡 O que são operadores aritméticos?**  \n",
    "> Operadores aritméticos permitem **realizar operações matemáticas básicas**, como adição, subtração, multiplicação, divisão, resto da divisão, potência e divisão inteira.  \n",
    "> Eles são fundamentais para **cálculos numéricos em programas**"
   ]
  },
  {
   "cell_type": "code",
   "execution_count": null,
   "id": "a3c4486b",
   "metadata": {},
   "outputs": [],
   "source": [
    "print(10 + 5) #     10 + 5  =  15           + Adição\n",
    "print(10 - 5)#      10 - 5  =  5            - Subtração\n",
    "print(10 * 5)#      10 * 5  =  50           * Multiplicação\n",
    "print(10 / 5) #     10 / 5  =  2.0          / Divisão\n",
    "print(10 % 5)  #    10 % 5  =  0            % Resto da divisão\n",
    "print(10 ** 5) #    10 ** 5 =  100000       ** Potência\n",
    "print(10 // 5) #    10 // 5 =  2             // Divisão inteira\n",
    "                                                "
   ]
  },
  {
   "cell_type": "markdown",
   "id": "90af49ae",
   "metadata": {},
   "source": [
    "> **🔹 Ordem das operações**\n",
    ">Primeiro multiplicações e divisões, depois somas e subtrações, a menos que use parênteses para mudar a ordem."
   ]
  },
  {
   "cell_type": "code",
   "execution_count": null,
   "id": "23f96bf6",
   "metadata": {},
   "outputs": [],
   "source": [
    "print(10 + 5 * 2)     # Resultado: 20\n",
    "print((10 + 5) * 2)   # Resultado: 3"
   ]
  },
  {
   "cell_type": "markdown",
   "id": "3bc8467c",
   "metadata": {},
   "source": [
    "# 🔍 Operadores de Comparação em Python\n",
    "\n",
    "> **💡 O que são operadores de comparação?**  \n",
    "> Operadores de comparação são usados para **comparar dois valores** e retornam um **valor booleano** (`True` ou `False`).  \n",
    "> São essenciais para **controle de fluxo e tomada de decisões**"
   ]
  },
  {
   "cell_type": "code",
   "execution_count": null,
   "id": "b51c8a58",
   "metadata": {},
   "outputs": [],
   "source": [
    "print(10 > 5)   # 10 > 5   = True    >  Maior que\n",
    "print(10 < 5)   # 10 < 5   = False   <  Menor que\n",
    "print(10 >= 5)  # 10 >= 5  = True    >= Maior ou igual a\n",
    "print(10 <= 5)  # 10 <= 5  = False   <= Menor ou igual a\n",
    "print(10 == 5)  # 10 == 5  = False   == Igual a\n",
    "print(10 != 5)  # 10 != 5  = True    != Diferente de"
   ]
  },
  {
   "cell_type": "markdown",
   "id": "effa1723",
   "metadata": {},
   "source": [
    ">**📝 Dica:**  \n",
    ">O símbolo > sempre aponta para o menor valor.  \n",
    "Por exemplo, em `10 > 5`, o `>` aponta para `5`\n",
    "\n",
    "Se não estiver apontando é falso"
   ]
  },
  {
   "cell_type": "markdown",
   "id": "31baad94",
   "metadata": {},
   "source": [
    "# 🔗 Combinando Operadores em Python\n",
    "\n",
    "> **💡 Dica:** É possível combinar **mais de um operador aritmético** em uma única expressão e até misturar operadores de comparação para criar condições mais complexas.\n",
    "\n",
    "```python\n",
    "\n"
   ]
  },
  {
   "cell_type": "code",
   "execution_count": null,
   "id": "cd78fc3b",
   "metadata": {},
   "outputs": [],
   "source": [
    "# 🔹 Combinação de operadores aritméticos\n",
    "print(10 + 5 * 2)           # Resultado: 20\n",
    "print((10 + 5) * (4 / 2) ** 2)  # Resultado: 60.0\n",
    "print(10 + 5 * 4 / 2 ** 2)      # Resultado: 15.0\n",
    "print(10 + 5 - 3 * 2 / 1)       # Resultado: 11.0\n",
    "\n",
    "# 🔹 Combinação de operadores aritméticos e de comparação\n",
    "print((10 + 5) > (20 - 5))      # False, porque 15 não é maior que 15\n",
    "print((10 * 2) == (5 + 15))     # True, porque 20 é igual a 20\n",
    "print((10 / 2) <= (5 * 2))      # True, porque 5 é menor ou igual a 10"
   ]
  }
 ],
 "metadata": {
  "kernelspec": {
   "display_name": "Python 3",
   "language": "python",
   "name": "python3"
  },
  "language_info": {
   "codemirror_mode": {
    "name": "ipython",
    "version": 3
   },
   "file_extension": ".py",
   "mimetype": "text/x-python",
   "name": "python",
   "nbconvert_exporter": "python",
   "pygments_lexer": "ipython3",
   "version": "3.11.9"
  }
 },
 "nbformat": 4,
 "nbformat_minor": 5
}
