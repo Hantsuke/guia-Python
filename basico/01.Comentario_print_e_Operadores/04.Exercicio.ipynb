{
 "cells": [
  {
   "cell_type": "markdown",
   "id": "6413a6b6",
   "metadata": {},
   "source": [
    "# 📝 Exercício – Calculadora e Comparador Simples\n",
    "\n",
    "\n",
    "Instruções:\n",
    "\n",
    "- Use apenas `print()` e operadores **aritméticos** e de **comparação** (não use variáveis ainda).\n",
    "- Mostre os resultados pedidos no console.\n",
    "- Inclua quebras de linha (`\\n`) onde achar necessário para organizar a saída.\n",
    "\n",
    ">💡 Lembrando > Primeiro multiplicações e divisões, depois somas e subtrações, a menos que use parênteses para mudar a ordem."
   ]
  },
  {
   "cell_type": "markdown",
   "id": "6afbfdd1",
   "metadata": {},
   "source": [
    ">Faça um print() que mostre a soma de 15 + 8 e a subtração de 20 - 5."
   ]
  },
  {
   "cell_type": "code",
   "execution_count": null,
   "id": "e847fd50",
   "metadata": {},
   "outputs": [],
   "source": []
  },
  {
   "cell_type": "markdown",
   "id": "a1f43725",
   "metadata": {},
   "source": [
    ">Mostre a multiplicação de 7 × 6 e a divisão de 81 ÷ 9, cada resultado em uma linha diferente."
   ]
  },
  {
   "cell_type": "code",
   "execution_count": null,
   "id": "7575d6aa",
   "metadata": {},
   "outputs": [],
   "source": []
  },
  {
   "cell_type": "markdown",
   "id": "c58ec4b8",
   "metadata": {},
   "source": [
    ">**Use operadores de comparação para verificar:**\n",
    " \n",
    "- Se 25 é maior que 18.  \n",
    "- Se 10 + 3 é igual a 5.  \n",
    "- Se 12 é diferente de 7.  \n"
   ]
  },
  {
   "cell_type": "code",
   "execution_count": null,
   "id": "a27feef6",
   "metadata": {},
   "outputs": [],
   "source": []
  },
  {
   "cell_type": "markdown",
   "id": "a5976502",
   "metadata": {},
   "source": [
    "> Mostre se o resultado de 15 + 5 é maior ou igual que 18 - 2."
   ]
  },
  {
   "cell_type": "code",
   "execution_count": null,
   "id": "c2664f7b",
   "metadata": {},
   "outputs": [],
   "source": []
  }
 ],
 "metadata": {
  "language_info": {
   "name": "python"
  }
 },
 "nbformat": 4,
 "nbformat_minor": 5
}
