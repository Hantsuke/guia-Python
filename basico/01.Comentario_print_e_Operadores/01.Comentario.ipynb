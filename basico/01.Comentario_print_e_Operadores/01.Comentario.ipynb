{
 "cells": [
  {
   "cell_type": "markdown",
   "id": "6b4dcffe",
   "metadata": {},
   "source": [
    "# 📝 Comentários em Python\n",
    "\n",
    "> **💡 O que são comentários?**  \n",
    "> Comentários são “recadinhos” no seu código.  \n",
    "> Eles **não aparecem para o computador**, servem apenas para humanos — tipo um **post-it colado no seu caderno**.  \n",
    "> Comentários ajudam a tornar o código mais **legível e compreensível**.\n",
    "\n",
    "---\n",
    "\n",
    "## 🟢 Tipos de comentários\n",
    "\n",
    "### 1️⃣ Comentários de linha única\n",
    "- Começam com o símbolo `#` e continuam até o final da linha."
   ]
  },
  {
   "cell_type": "code",
   "execution_count": null,
   "id": "e595b1dd",
   "metadata": {},
   "outputs": [],
   "source": [
    "# Este é um comentário de linha única\n",
    "idade = 25  # Você também pode colocar comentários depois do código"
   ]
  },
  {
   "cell_type": "markdown",
   "id": "d05da0bb",
   "metadata": {},
   "source": [
    "# 2️⃣ Comentários de múltiplas linhas\n",
    "\n",
    "- Podem ser feitos usando três aspas simples (''') ou três aspas duplas (\"\"\")."
   ]
  },
  {
   "cell_type": "code",
   "execution_count": null,
   "id": "9e44875d",
   "metadata": {},
   "outputs": [],
   "source": [
    "\"\"\"\n",
    "Este é um comentário\n",
    "de múltiplas linhas.\n",
    "Pode se estender por várias linhas.\n",
    "\"\"\""
   ]
  },
  {
   "cell_type": "markdown",
   "id": "551d48b2",
   "metadata": {},
   "source": [
    ">**📌 Dica:**\n",
    "Use comentários de linha única para pequenas observações e comentários de múltiplas linhas para explicações mais longas ou documentação."
   ]
  }
 ],
 "metadata": {
  "language_info": {
   "name": "python"
  }
 },
 "nbformat": 4,
 "nbformat_minor": 5
}
