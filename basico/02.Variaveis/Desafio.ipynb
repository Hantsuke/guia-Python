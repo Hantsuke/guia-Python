{
 "cells": [
  {
   "cell_type": "markdown",
   "id": "3079c901",
   "metadata": {},
   "source": [
    "# 🧠 DESAFIO: Trabalhando com Variáveis e Tipos de Dados\n",
    "\n",
    "---\n",
    "\n",
    "Instruções:\n",
    "\n",
    "- Mostre os resultados pedidos no console.\n",
    "- Inclua quebras de linha (\\n) onde achar necessário para organizar a saída.\n",
    "- Use comentários para explicar cada passo do seu código.\n",
    "- Use nomes significativos para as variáveis.\n",
    "- Use atribuição múltipla onde fizer sentido.\n",
    "- Use os tipos de dados adequados para cada variável:\n",
    "    - Strings são usadas para texto.\n",
    "    - Inteiros (int) são usados para números inteiros.\n",
    "    - Float são usados para números decimais.\n",
    "    - Booleanos (bool) são usados para valores verdadeiros ou falsos.\n",
    "- Use a função type() para verificar os tipos de dados das variáveis.\n"
   ]
  },
  {
   "cell_type": "code",
   "execution_count": null,
   "id": "f970aa91",
   "metadata": {},
   "outputs": [],
   "source": [
    "#                       Crie três variáveis: nome, idade e altura."
   ]
  },
  {
   "cell_type": "code",
   "execution_count": null,
   "id": "f15926d2",
   "metadata": {},
   "outputs": [],
   "source": []
  },
  {
   "cell_type": "code",
   "execution_count": null,
   "id": "93e9d8db",
   "metadata": {},
   "outputs": [],
   "source": [
    "#                       Converta a idade para string e mostre em uma mensagem, o nome, idade e altura da pessoa."
   ]
  },
  {
   "cell_type": "code",
   "execution_count": null,
   "id": "59201d57",
   "metadata": {},
   "outputs": [],
   "source": []
  },
  {
   "cell_type": "code",
   "execution_count": null,
   "id": "7258580e",
   "metadata": {},
   "outputs": [],
   "source": [
    "#                       Faça uma nova variável chamada 'idade_futura' que some 5 à idade atual e exiba o resultado."
   ]
  },
  {
   "cell_type": "code",
   "execution_count": null,
   "id": "b361e191",
   "metadata": {},
   "outputs": [],
   "source": []
  },
  {
   "cell_type": "code",
   "execution_count": null,
   "id": "48581a8b",
   "metadata": {},
   "outputs": [],
   "source": [
    "#Crie três variaveis com notas de 3 provas e calcule a média entre elas e crie uma variavel que fale se é verdadeiro ou falso que a media é maior que 7.\n",
    "#Lembre-se de usar nomes significativos para as variáveis e que a media é a soma das notas dividida pelo número de provas."
   ]
  },
  {
   "cell_type": "code",
   "execution_count": null,
   "id": "cacc2eb6",
   "metadata": {},
   "outputs": [],
   "source": []
  }
 ],
 "metadata": {
  "language_info": {
   "name": "python"
  }
 },
 "nbformat": 4,
 "nbformat_minor": 5
}
