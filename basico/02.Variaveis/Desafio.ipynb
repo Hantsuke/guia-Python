{
 "cells": [
  {
   "cell_type": "markdown",
   "id": "20d0381e",
   "metadata": {},
   "source": [
    "# 🔥DESAFIO ADICIONAL – Farmácia🔥"
   ]
  },
  {
   "cell_type": "markdown",
   "id": "641b2cd9",
   "metadata": {},
   "source": [
    ">🔥 Você precisa criar 🔥:\n",
    "- 🔹 Três variáveis com os estoques de três medicamentos diferentes.  \n",
    "- 🔹 Calcule a **soma total do estoque** e a **média de estoque** entre os três medicamentos.  \n",
    "- 🔹 Crie um booleano que indique se **a soma total do estoque é maior que 100**.  \n",
    "- 🔹 Crie um booleano que indique se **todos os medicamentos têm estoque maior que 20**.  \n",
    "- 🔹 Calcule quantas unidades sobrariam se **vendêssemos 15 unidades de cada medicamento**.  \n",
    "- 🔹 Mostre todas as informações com **mensagens claras usando f-strings**.\n",
    "\n",
    "\n",
    "**⚠️ Dica: Use nomes descritivos, atribuição múltipla se quiser, e print() para exibir resultados**"
   ]
  },
  {
   "cell_type": "markdown",
   "id": "f6e9394a",
   "metadata": {},
   "source": [
    "---"
   ]
  },
  {
   "cell_type": "markdown",
   "id": "953d02fc",
   "metadata": {},
   "source": [
    "> 📝 O que é um desafio?\n",
    "\n",
    "O desafio será parecido com a atividade anterior, mas mais **geral e um pouco mais complexo**.  \n",
    "O objetivo é **pensar por conta própria**, organizar suas ideias e **resolver o problema passo a passo**, sem instruções detalhadas.\n",
    "\n",
    "Ele ajuda a **praticar, testar soluções e desenvolver raciocínio lógico**, simulando situações reais.  \n",
    "\n",
    "💡 **Dica:** Analise cada parte do problema e vá resolvendo passo a passo. Errar faz parte do aprendizado!\n",
    "\n",
    "---\n"
   ]
  },
  {
   "cell_type": "code",
   "execution_count": null,
   "id": "1fb32e9c",
   "metadata": {},
   "outputs": [],
   "source": []
  }
 ],
 "metadata": {
  "kernelspec": {
   "display_name": "Python 3",
   "language": "python",
   "name": "python3"
  },
  "language_info": {
   "codemirror_mode": {
    "name": "ipython",
    "version": 3
   },
   "file_extension": ".py",
   "mimetype": "text/x-python",
   "name": "python",
   "nbconvert_exporter": "python",
   "pygments_lexer": "ipython3",
   "version": "3.11.9"
  }
 },
 "nbformat": 4,
 "nbformat_minor": 5
}
