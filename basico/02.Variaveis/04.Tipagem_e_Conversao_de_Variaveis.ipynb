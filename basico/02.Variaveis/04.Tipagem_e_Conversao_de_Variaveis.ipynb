{
 "cells": [
  {
   "cell_type": "markdown",
   "id": "f120b827",
   "metadata": {},
   "source": [
    "# 🔄 Tipagem Dinâmica e Conversão de Tipos em Python\n",
    "\n",
    "> **💡 Dica:** Em Python, você **não precisa declarar o tipo de uma variável** explicitamente.  \n",
    "> O tipo é inferido automaticamente pelo valor atribuído — isso é chamado de **tipagem dinâmica**.\n"
   ]
  },
  {
   "cell_type": "markdown",
   "id": "306597e8",
   "metadata": {},
   "source": [
    "# 🔹 Tipagem"
   ]
  },
  {
   "cell_type": "markdown",
   "id": "aa0e23aa",
   "metadata": {},
   "source": [
    ">🔹 Tipagem dinâmica: o tipo é definido automaticamente"
   ]
  },
  {
   "cell_type": "code",
   "execution_count": null,
   "id": "dce4fcc2",
   "metadata": {},
   "outputs": [],
   "source": [
    "valor = 10\n",
    "print(valor)        # 🔹 Saída: 10\n",
    "print(type(valor))  # 🔹 Saída: <class 'int'>"
   ]
  },
  {
   "cell_type": "markdown",
   "id": "44f9be4b",
   "metadata": {},
   "source": [
    "# 🔹 Conversão"
   ]
  },
  {
   "cell_type": "markdown",
   "id": "f3fafcf6",
   "metadata": {},
   "source": [
    "> 🔹 Conversão: Mudando o tipo da variável através de conversão explícita"
   ]
  },
  {
   "cell_type": "code",
   "execution_count": null,
   "id": "1fca43f4",
   "metadata": {},
   "outputs": [],
   "source": [
    "valor = str(valor)   # Converte valor para string\n",
    "print(valor)         # 🔹 Saída: \"10\"\n",
    "print(type(valor))   # 🔹 Saída: <class 'str'>"
   ]
  },
  {
   "cell_type": "markdown",
   "id": "2bb42803",
   "metadata": {},
   "source": [
    "> 🔹 Conversão entre tipos de dados  \n",
    "Você pode passar \n",
    "**int <-> float <-> str <-> bool**"
   ]
  },
  {
   "cell_type": "code",
   "execution_count": null,
   "id": "713e3196",
   "metadata": {},
   "outputs": [],
   "source": [
    "num_inteiro = 10\n",
    "print(num_inteiro)             # 🔹 Saída: 10\n",
    "\n",
    "num_float = float(num_inteiro)  # Converte int para float\n",
    "print(num_float)                 # 🔹 Saída: 10.0\n",
    "\n",
    "num_str = str(num_inteiro)       # Converte int para string\n",
    "print(num_str)                   # 🔹 Saída: \"10\"\n",
    "\n",
    "num_bool = bool(num_inteiro)     # Converte int para booleano\n",
    "print(num_bool)                  # 🔹 Saída: True (qualquer número diferente de zero é True)"
   ]
  },
  {
   "cell_type": "markdown",
   "id": "7a7b0d5b",
   "metadata": {},
   "source": [
    "# ⚠️ Erro na Conversão de String para Número\n",
    "\n",
    "> **💡 Perceba:**  \n",
    "> A conversão de `string` para `int` ou `float` **só funciona se a string representar um número válido**.\n",
    "\n",
    ">🔹 Exemplo de conversão inválida:\n"
   ]
  },
  {
   "cell_type": "code",
   "execution_count": null,
   "id": "21ad1c4b",
   "metadata": {},
   "outputs": [],
   "source": [
    "\n",
    "str_num = \"abc\"  # String que não representa um número\n",
    "\n",
    "num_convertido = int(str_num)  # ❌ Isso causará um erro\n",
    "print(num_convertido)           # Não será executado devido ao erro anterior"
   ]
  }
 ],
 "metadata": {
  "kernelspec": {
   "display_name": "Python 3",
   "language": "python",
   "name": "python3"
  },
  "language_info": {
   "codemirror_mode": {
    "name": "ipython",
    "version": 3
   },
   "file_extension": ".py",
   "mimetype": "text/x-python",
   "name": "python",
   "nbconvert_exporter": "python",
   "pygments_lexer": "ipython3",
   "version": "3.11.9"
  }
 },
 "nbformat": 4,
 "nbformat_minor": 5
}
