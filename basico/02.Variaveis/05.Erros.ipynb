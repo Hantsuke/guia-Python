{
 "cells": [
  {
   "cell_type": "markdown",
   "id": "5c777bef",
   "metadata": {},
   "source": [
    "# 🐍 Erros Básicos em Python\n",
    "\n",
    "Quando algo está errado no seu código, o **Python mostra um erro (Exception)** e **para a execução** no ponto onde ocorreu.  \n",
    "Ele mostra **um erro por vez** — depois de corrigir esse erro e executar novamente, se houver outro, ele será exibido.\n",
    "\n",
    "---\n",
    "\n",
    "## 💡 Dica:\n",
    "\n",
    "- Leia sempre a **mensagem de erro**: ela indica  \n",
    "  1. **O tipo do erro**  \n",
    "  2. **A linha onde ocorreu**  \n",
    "  3. **Uma breve explicação do problema**  \n",
    "\n",
    "- Corrija **um erro de cada vez** e rode o código novamente para encontrar o próximo.\n",
    "\n",
    "---\n",
    "\n",
    "## 🔹 Exemplo de erro:\n"
   ]
  },
  {
   "cell_type": "code",
   "execution_count": null,
   "id": "5569571c",
   "metadata": {},
   "outputs": [],
   "source": [
    "1nome = \"João\""
   ]
  },
  {
   "cell_type": "markdown",
   "id": "eba2066c",
   "metadata": {},
   "source": [
    "## 🔹 Explicando a mensagem:\n",
    "`Cell In[2], line 2` → indica que o erro está na linha 2 do código.  \n",
    "O `^` → aponta exatamente onde o Python detectou o problema.  \n",
    "`SyntaxError: invalid decimal literal` → diz que há erro de sintaxe, pois o nome da variável não pode começar com número.  \n",
    "\n",
    "✅ Lembre-se: sempre verifique a linha indicada e o símbolo ^ para localizar o erro rapidamente.  \n",
    "\n",
    "---"
   ]
  },
  {
   "cell_type": "markdown",
   "id": "7ad06ce4",
   "metadata": {},
   "source": [
    "# 🛑 Erros Comuns em Python\n",
    "\n",
    "> **💡 Atenção:** Estes são erros frequentes que iniciantes podem cometer.  \n",
    "\n",
    "```python\n",
    "# 1️⃣ NameError: variável não definida\n",
    "# Exemplo:\n",
    "print(x)  # ❌ Erro: x não foi definida\n",
    "\n",
    "# 2️⃣ TypeError: operação inválida entre tipos\n",
    "# Exemplo:\n",
    "soma = \"10\" + 5  # ❌ Erro: não se pode somar str com int\n",
    "\n",
    "# 3️⃣ ValueError: conversão inválida\n",
    "# Exemplo:\n",
    "numero = int(\"abc\")  # ❌ Erro: \"abc\" não pode ser convertido em inteiro\n",
    "\n",
    "# 4️⃣ SyntaxError: erro de sintaxe\n",
    "# Exemplo:\n",
    "if True print(\"Olá\")  # ❌ Erro: falta de dois-pontos e indentação"
   ]
  },
  {
   "cell_type": "markdown",
   "id": "12440fe5",
   "metadata": {},
   "source": [
    "---"
   ]
  },
  {
   "cell_type": "markdown",
   "id": "c9260287",
   "metadata": {},
   "source": [
    "> 💡 **Desafio**\n",
    "> \n",
    "> 🧠 **Você corrigir os erros ?**\n",
    "> \n"
   ]
  },
  {
   "cell_type": "code",
   "execution_count": null,
   "id": "58597707",
   "metadata": {},
   "outputs": [],
   "source": [
    "print(\"Olá\""
   ]
  },
  {
   "cell_type": "code",
   "execution_count": null,
   "id": "d5463643",
   "metadata": {},
   "outputs": [],
   "source": [
    "print(anoAtual)"
   ]
  },
  {
   "cell_type": "code",
   "execution_count": null,
   "id": "43b78a10",
   "metadata": {},
   "outputs": [],
   "source": [
    "cinco = 5\n",
    "quatro = \"4\"\n",
    "print(cinco + quatro)"
   ]
  },
  {
   "cell_type": "code",
   "execution_count": null,
   "id": "0f1e3107",
   "metadata": {},
   "outputs": [],
   "source": [
    "num = int(\"abc\")"
   ]
  },
  {
   "cell_type": "markdown",
   "id": "02af299d",
   "metadata": {},
   "source": [
    "<details>\n",
    "  <summary>💡 Clique aqui para ver a solução</summary>\n",
    "\n",
    "**1)** print(\"Olá\")  \n",
    "\n",
    "**2)**  \n",
    "  anoAtual = 2025  \n",
    "  print(anoAtual)  \n",
    "\n",
    "**3)**  \n",
    "  cinco = 5  \n",
    "  quatro = 4  \n",
    "  print(cinco + quatro)  \n",
    "  \n",
    "**4)** \n",
    "  num = int(\"1\")  \n",
    "  (pode ser qualquer numero)"
   ]
  }
 ],
 "metadata": {
  "language_info": {
   "name": "python"
  }
 },
 "nbformat": 4,
 "nbformat_minor": 5
}
