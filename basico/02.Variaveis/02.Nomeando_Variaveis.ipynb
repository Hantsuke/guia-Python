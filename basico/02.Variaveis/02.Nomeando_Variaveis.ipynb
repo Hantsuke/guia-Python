{
 "cells": [
  {
   "cell_type": "markdown",
   "id": "8c6da7a1",
   "metadata": {},
   "source": [
    "# 🖊️ Nomeando Variáveis em Python\n",
    "\n",
    "> **💡 Agora que aprendemos sobre o `type()`, podemos continuar com as variáveis e tipos de dados.**  \n",
    "\n",
    "---\n",
    "\n",
    "## 📌 Regras para nomear variáveis:\n",
    "\n",
    "- Devem começar com uma **letra** ou um **sublinhado (`_`)**.  \n",
    "- Podem conter **letras, números e sublinhados**.  \n",
    "- **Não podem conter espaços** ou caracteres especiais (`@`, `#`, etc.).  \n",
    "- São **sensíveis a maiúsculas e minúsculas** (case-sensitive).  \n",
    "- **Não podem ser palavras reservadas** do Python (como `print`, `type`, `if`, etc.).  \n",
    "\n",
    "> **E o mais importante:**  \n",
    "> - Devem ter nomes **descritivos** que indiquem o propósito da variável.  \n",
    ">   - Exemplos: `idade=25`, `salario_mensal=3000`, `nome_completo=\"Maria Silva\"`  \n",
    ">   - Evite nomes como `x`, `y`, `z`, `a`, `b`, `c`, etc., pois você pode esquecer o que cada variável representa, especialmente em programas maiores.\n",
    "\n",
    "---\n",
    "\n",
    "## 🔹 Exemplos de nomes de variáveis válidos:\n",
    "\n",
    "\n"
   ]
  },
  {
   "cell_type": "code",
   "execution_count": null,
   "id": "23f8f62e",
   "metadata": {},
   "outputs": [],
   "source": [
    "idade = 25\n",
    "salario_mensal = 3000\n",
    "nome_completo = \"Maria Silva\"\n",
    "_estudante = True\n",
    "nota1 = 8.5\n",
    "nota2 = 9.0"
   ]
  },
  {
   "cell_type": "markdown",
   "id": "87547e1d",
   "metadata": {},
   "source": [
    "# ❌ Exemplos de nomes de variáveis inválidos\n",
    "\n",
    "> **💡 Inicie o código abaixo para ver os erros que ocorrem ao tentar criar variáveis com nomes inválidos.**"
   ]
  },
  {
   "cell_type": "code",
   "execution_count": null,
   "id": "64ca7a85",
   "metadata": {},
   "outputs": [],
   "source": [
    "\n",
    "x = 10                  # ❌ Muito genérico, embora não gere erro, não é recomendado\n",
    "1nome = \"João\"          # ❌ Erro: não pode começar com um número\n",
    "salário$ = 3000         # ❌ Erro: contém caractere especial ($)\n",
    "nome completo = \"Ana\"   # ❌ Erro: contém espaço\n",
    "for = 10                # ❌ Erro: usa palavra reservada do Python\n"
   ]
  }
 ],
 "metadata": {
  "kernelspec": {
   "display_name": "Python 3",
   "language": "python",
   "name": "python3"
  },
  "language_info": {
   "codemirror_mode": {
    "name": "ipython",
    "version": 3
   },
   "file_extension": ".py",
   "mimetype": "text/x-python",
   "name": "python",
   "nbconvert_exporter": "python",
   "pygments_lexer": "ipython3",
   "version": "3.11.9"
  }
 },
 "nbformat": 4,
 "nbformat_minor": 5
}
