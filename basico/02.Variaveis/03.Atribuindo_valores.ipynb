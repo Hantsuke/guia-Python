{
 "cells": [
  {
   "cell_type": "markdown",
   "id": "bae3cdf3",
   "metadata": {},
   "source": [
    "# 🌟 Atribuindo valores em Variáveis em Python\n",
    "\n",
    "> **💡 Percebeu que atribuímos os valores às variáveis com o sinal de igual (`=`)?**  \n",
    "> Podemos mudar o valor de uma variável a qualquer momento:"
   ]
  },
  {
   "cell_type": "code",
   "execution_count": null,
   "id": "1f18f31e",
   "metadata": {},
   "outputs": [],
   "source": [
    "idade = 25  # A variável idade tem o valor 25\n",
    "print(idade)  # Isso exibirá 30\n",
    "idade = 30  # Agora, a variável idade tem o valor 30\n",
    "print(idade)  # Isso exibirá 30"
   ]
  },
  {
   "cell_type": "markdown",
   "id": "06d50106",
   "metadata": {},
   "source": [
    "# 🔄 Operadores de Atribuição em Python\n",
    "\n",
    "> **💡 Dica:** Além do `=` simples, o Python possui formas abreviadas para **atualizar o valor de uma variável** usando operações matemáticas.  "
   ]
  },
  {
   "cell_type": "code",
   "execution_count": null,
   "id": "e01e4c8a",
   "metadata": {},
   "outputs": [],
   "source": [
    "x = 10      #               🟢 Atribuição simples\n",
    "\n",
    "x += 5      #    x = x + 5              + Adição\n",
    "x -= 3      #    x = x - 3              - Subtração\n",
    "x *= 2      #    x = x * 2              * Multiplicação\n",
    "x /= 4      #    x = x / 4              / Divisão\n",
    "x %= 7      #    x = x % 7              % Resto da divisão\n",
    "x **= 3     #    x = x ** 3             ** Potência\n",
    "x //= 5     #    x = x // 5             // Divisão inteira"
   ]
  },
  {
   "cell_type": "markdown",
   "id": "a03afef6",
   "metadata": {},
   "source": [
    ">Podemos atribuir valores a mais de uma variável na mesma linha:"
   ]
  },
  {
   "cell_type": "code",
   "execution_count": null,
   "id": "5a3556b8",
   "metadata": {},
   "outputs": [],
   "source": [
    "x, y, z = 1, 2, 3  # Atribui 1 a x, 2 a y e 3 a z\n",
    "print(x, y, z)     # 🔹 Saída: 1 2 3"
   ]
  },
  {
   "cell_type": "code",
   "execution_count": null,
   "id": "eda7811c",
   "metadata": {},
   "outputs": [],
   "source": [
    "# ou o mesmo valor a várias variáveis\n",
    "a = b = c = 10  # Atribui 10 a a, b e c\n",
    "print(a, b, c)  # 🔹 Saída: 10 10 10"
   ]
  },
  {
   "cell_type": "markdown",
   "id": "0ad7dcd8",
   "metadata": {},
   "source": [
    ">Podemos tambem atribuir o valor de uma variável a outra:"
   ]
  },
  {
   "cell_type": "code",
   "execution_count": null,
   "id": "41262623",
   "metadata": {},
   "outputs": [],
   "source": [
    "idade = 25\n",
    "nova_idade = idade   # nova_idade agora tem o valor de idade (25)\n",
    "print(nova_idade)    # 🔹 Saída: 25"
   ]
  },
  {
   "cell_type": "markdown",
   "id": "9b4c1091",
   "metadata": {},
   "source": [
    ">Podemos atribuir operações com variáveis numéricas:"
   ]
  },
  {
   "cell_type": "code",
   "execution_count": null,
   "id": "19b3fd1d",
   "metadata": {},
   "outputs": [],
   "source": [
    "idade = 25\n",
    "idade_mais_cinco = idade + 5  # Adiciona 5 à idade\n",
    "print(idade_mais_cinco)        # 🔹 Saída: 30\n",
    "            "
   ]
  },
  {
   "cell_type": "markdown",
   "id": "4e0f7fe1",
   "metadata": {},
   "source": [
    "ou fazer operações na variáveis, elas nessa questão elas funcionam igual com print:"
   ]
  },
  {
   "cell_type": "code",
   "execution_count": null,
   "id": "005818c6",
   "metadata": {},
   "outputs": [],
   "source": [
    "Dia_do_aniversario_Ana = 12\n",
    "Dia_atual = 12"
   ]
  },
  {
   "cell_type": "code",
   "execution_count": null,
   "id": "5ae5d3cf",
   "metadata": {},
   "outputs": [],
   "source": [
    "# Operadores de comparação\n",
    "Chegou = Dia_do_aniversario_Ana == Dia_atual\n",
    "print(Chegou)  # Saída: True"
   ]
  },
  {
   "cell_type": "code",
   "execution_count": null,
   "id": "54c2518a",
   "metadata": {},
   "outputs": [],
   "source": [
    "# Operadores aritméticos\n",
    "Dias_q_Faltam = Dia_do_aniversario_Ana - Dia_atual\n",
    "print(Dias_q_Faltam)  # Saída: 0"
   ]
  }
 ],
 "metadata": {
  "kernelspec": {
   "display_name": "Python 3",
   "language": "python",
   "name": "python3"
  },
  "language_info": {
   "codemirror_mode": {
    "name": "ipython",
    "version": 3
   },
   "file_extension": ".py",
   "mimetype": "text/x-python",
   "name": "python",
   "nbconvert_exporter": "python",
   "pygments_lexer": "ipython3",
   "version": "3.11.9"
  }
 },
 "nbformat": 4,
 "nbformat_minor": 5
}
