{
 "cells": [
  {
   "cell_type": "markdown",
   "id": "60b0040a",
   "metadata": {},
   "source": [
    "# 🖨️ Trabalhando com print() e Variáveis"
   ]
  },
  {
   "cell_type": "markdown",
   "id": "f48ddf97",
   "metadata": {},
   "source": [
    "> Com o print() podemos exibir o valor de variáveis."
   ]
  },
  {
   "cell_type": "code",
   "execution_count": null,
   "id": "50fee43c",
   "metadata": {},
   "outputs": [],
   "source": [
    "nome = \"Ana\"\n",
    "idade = 28\n",
    "print(nome)  # Saída: Ana"
   ]
  },
  {
   "cell_type": "markdown",
   "id": "0f9ff0e7",
   "metadata": {},
   "source": [
    "> Você pode passar múltiplas variáveis para o print(), separadas por vírgulas."
   ]
  },
  {
   "cell_type": "code",
   "execution_count": null,
   "id": "c8150d5e",
   "metadata": {},
   "outputs": [],
   "source": [
    "print(nome, idade)  # Saída: Ana 28"
   ]
  },
  {
   "cell_type": "markdown",
   "id": "490eadad",
   "metadata": {},
   "source": [
    "Também pode imprimir texto junto com variáveis."
   ]
  },
  {
   "cell_type": "code",
   "execution_count": null,
   "id": "d0aa4811",
   "metadata": {},
   "outputs": [],
   "source": [
    "print(\"Nome:\", nome, \"Idade:\", idade)  # Saída: Nome: Ana Idade: 28\n",
    "\n",
    "#imprimir rapidamente valores de variáveis, sem precisar formatar nada, como em testes."
   ]
  },
  {
   "cell_type": "markdown",
   "id": "97cc4017",
   "metadata": {},
   "source": [
    "Sendo possível formatar a saída usando f-strings, so precisa colocar a letra f antes das aspas e usar chaves {} para incluir variáveis dentro da string."
   ]
  },
  {
   "cell_type": "code",
   "execution_count": null,
   "id": "6558aff2",
   "metadata": {},
   "outputs": [],
   "source": [
    "print(f\"Nome: {nome}, Idade: {idade}\")  # Saída: Nome: Ana, Idade: 28"
   ]
  },
  {
   "cell_type": "markdown",
   "id": "ce4edbae",
   "metadata": {},
   "source": [
    "Pode ser usado sem variável"
   ]
  },
  {
   "cell_type": "code",
   "execution_count": null,
   "id": "44f561f1",
   "metadata": {},
   "outputs": [],
   "source": [
    "print(f\"Resultado de : 1 + 1 = {1+1}\")"
   ]
  },
  {
   "cell_type": "markdown",
   "id": "6eb65175",
   "metadata": {},
   "source": [
    "**Use f-strings para deixar a saída mais clara e legível.**"
   ]
  },
  {
   "cell_type": "markdown",
   "id": "9d1536a1",
   "metadata": {},
   "source": [
    "# 🔹 Operações com variáveis numéricas\n",
    "Tudo que você faz com números pode ser feito com variáveis numéricas.  \n",
    "O mesmo vale para strings e booleanos.  "
   ]
  },
  {
   "cell_type": "markdown",
   "id": "3dddc7f5",
   "metadata": {},
   "source": [
    "> 🔹 Operações com variáveis numéricas"
   ]
  },
  {
   "cell_type": "code",
   "execution_count": null,
   "id": "98a6fe4b",
   "metadata": {},
   "outputs": [],
   "source": [
    "numero_cinco = 5\n",
    "numero_dez = 10\n",
    "soma = numero_cinco + numero_dez  # Soma de variáveis\n",
    "print(soma)  # Saída: 15"
   ]
  },
  {
   "cell_type": "markdown",
   "id": "ea53fad8",
   "metadata": {},
   "source": [
    "> 🔹 Operações diretamente no print (não armazena resultado)"
   ]
  },
  {
   "cell_type": "code",
   "execution_count": null,
   "id": "dafbb466",
   "metadata": {},
   "outputs": [],
   "source": [
    "print(numero_cinco + numero_dez)  # Soma: 15\n",
    "print(numero_cinco * 2)           # Multiplicação: 10\n",
    "print(numero_dez - numero_dez)    # Subtração: 0\n",
    "print(numero_dez / 2)             # Divisão: 5.0\n",
    "print(numero_dez // numero_dez)   # Divisão inteira: 1"
   ]
  },
  {
   "cell_type": "markdown",
   "id": "4bf27fab",
   "metadata": {},
   "source": [
    "> 🔹 Operadores de comparação que retornam booleanos"
   ]
  },
  {
   "cell_type": "code",
   "execution_count": null,
   "id": "b6ff1249",
   "metadata": {},
   "outputs": [],
   "source": [
    "print(numero_cinco > numero_dez)  # Maior que: False\n",
    "print(numero_cinco < numero_dez)  # Menor que: True\n",
    "print(numero_cinco == 5)          # Igual a: True\n",
    "print(numero_cinco != numero_dez) # Diferente de: True\n",
    "print(numero_cinco >= 5)          # Maior ou igual a: True"
   ]
  }
 ],
 "metadata": {
  "language_info": {
   "name": "python"
  }
 },
 "nbformat": 4,
 "nbformat_minor": 5
}
