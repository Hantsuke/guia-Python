{
 "cells": [
  {
   "cell_type": "markdown",
   "id": "00d6a535",
   "metadata": {},
   "source": [
    "# 🌟 Introdução às Variáveis em Python\n",
    "\n",
    "> **💡 O que são variáveis?**  \n",
    "> Variáveis são usadas para **armazenar e editar valores**, como caixas com etiquetas.  \n",
    "> Sem elas, os programas não teriam memória. São como **caixas para guardar valores** e usá-los mais tarde.  \n",
    "\n",
    "> **📌 Tipos de dados em Python:**  \n",
    "> Python possui diferentes tipos de dados que podemos usar em variáveis."
   ]
  },
  {
   "cell_type": "code",
   "execution_count": null,
   "id": "5bbbba51",
   "metadata": {},
   "outputs": [],
   "source": [
    "# 🔹 Exemplo de variáveis com diferentes tipos de dados:\n",
    "\n",
    "idade = 25              # 🟢 Inteiro (int), números sem parte decimal\n",
    "altura = 1.75           # 🔵 Float, números com parte decimal\n",
    "nome = \"João\"           # 🟣 String, texto entre aspas duplas(\") ou simples(')\n",
    "estudando = True        # 🔶 Booleano, pode ser True ou False\n",
    "#Inicie esse codigo, podemos perceber que a não foi mostrado o valor das variáveis mas elas foram criadas, para ver as informações vamos usar o print"
   ]
  },
  {
   "cell_type": "code",
   "execution_count": null,
   "id": "9b974ebe",
   "metadata": {},
   "outputs": [],
   "source": [
    "\n",
    "# 🔹 Vamos imprimir os valores para ver o resultado:\n",
    "print(idade)         # 🔹 Saída: 25\n",
    "print(altura)       # 🔹 Saída: 1.75\n",
    "print(nome)           # 🔹 Saída: João\n",
    "print(estudando) # 🔹 Saída: True"
   ]
  },
  {
   "cell_type": "markdown",
   "id": "d7a338b1",
   "metadata": {},
   "source": [
    "# 🔍 Descobrindo o Tipo de uma Variável em Python\n",
    "\n",
    "> **💡 Perceba:**  \n",
    "> Quando imprimimos uma variável com `print()`, só aparece o valor dela, **não o tipo**.  \n",
    "> Para descobrir o tipo da variável, usamos a função `type()` e colocamos o nome da variável entre parênteses: \n",
    "# type(idade)\n",
    "Mas o type não mostra na tela."
   ]
  },
  {
   "cell_type": "markdown",
   "id": "43ffb4a1",
   "metadata": {},
   "source": [
    "> 💡 **Desafio**\n",
    "> \n",
    "> 🧠 **Você tem uma ideia de como usar o `print()` para descobrir o tipo da variável `idade`?**\n",
    "> \n",
    "> Lembre-se: o `print()` é usado para exibir informações na tela, e o `type()` serve para descobrir o tipo de uma variável.\n"
   ]
  },
  {
   "cell_type": "markdown",
   "id": "f0f04f76",
   "metadata": {},
   "source": [
    "Escreva o código abaixo para descobrir o tipo da variável idade (Lembre-se fora do comentário e inicie o codigo):"
   ]
  },
  {
   "cell_type": "code",
   "execution_count": null,
   "id": "63147806",
   "metadata": {},
   "outputs": [],
   "source": []
  },
  {
   "cell_type": "markdown",
   "id": "f5d41831",
   "metadata": {},
   "source": [
    "<details>\n",
    "  <summary>💡 Clique aqui para ver a solução</summary>\n",
    "\n",
    "**Exibindo o valor e o tipo da variável idade**  \n",
    "      `print(type(idade))`"
   ]
  },
  {
   "cell_type": "code",
   "execution_count": null,
   "id": "eb2fc963",
   "metadata": {},
   "outputs": [],
   "source": [
    "\n",
    "# 🔹 Exemplo usando a função type():\n",
    "idade = 25\n",
    "\n",
    "print(idade)         # 🔹 Saída: 25\n",
    "print(type(idade))   # 🔹 Saída: <class 'int'>, mostrando que é um número inteiro\n"
   ]
  }
 ],
 "metadata": {
  "language_info": {
   "name": "python"
  }
 },
 "nbformat": 4,
 "nbformat_minor": 5
}
