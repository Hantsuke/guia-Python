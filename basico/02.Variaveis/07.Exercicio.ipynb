{
 "cells": [
  {
   "cell_type": "markdown",
   "id": "3079c901",
   "metadata": {},
   "source": [
    "# 📝 Exercício: Trabalhando com Variáveis e Tipos de Dados\n",
    "\n",
    "---\n",
    "\n",
    "Instruções:\n",
    "\n",
    "- Mostre os resultados pedidos no console.\n",
    "- Inclua quebras de linha (\\n) onde achar necessário para organizar a saída.\n",
    "- Use comentários para explicar cada passo do seu código.\n",
    "- Use nomes significativos para as variáveis.\n",
    "- Use atribuição múltipla onde fizer sentido.\n",
    "- Use os tipos de dados adequados para cada variável:\n",
    "    - Strings são usadas para texto.\n",
    "    - Inteiros (int) são usados para números inteiros.\n",
    "    - Float são usados para números decimais.\n",
    "    - Booleanos (bool) são usados para valores verdadeiros ou falsos.\n",
    "- Use a função type() para verificar os tipos de dados das variáveis.\n",
    "\n",
    "\n",
    "\n",
    "**Use f-string para exibir o que foi pedido**\n"
   ]
  },
  {
   "cell_type": "markdown",
   "id": "f970aa91",
   "metadata": {},
   "source": [
    ">Crie três variáveis: nome, idade e altura."
   ]
  },
  {
   "cell_type": "code",
   "execution_count": null,
   "id": "f15926d2",
   "metadata": {},
   "outputs": [],
   "source": []
  },
  {
   "cell_type": "markdown",
   "id": "7258580e",
   "metadata": {},
   "source": [
    ">Some 5 à idade e exiba o resultado."
   ]
  },
  {
   "cell_type": "code",
   "execution_count": null,
   "id": "59201d57",
   "metadata": {},
   "outputs": [],
   "source": []
  },
  {
   "cell_type": "markdown",
   "id": "93e9d8db",
   "metadata": {},
   "source": [
    ">Converta a idade para string e mostre em uma mensagem, o nome, idade e altura da pessoa."
   ]
  },
  {
   "cell_type": "code",
   "execution_count": null,
   "id": "b361e191",
   "metadata": {},
   "outputs": [],
   "source": []
  },
  {
   "cell_type": "markdown",
   "id": "48581a8b",
   "metadata": {},
   "source": [
    ">Crie três variaveis com notas de 3 provas \n",
    "- calcule a média entre elas   \n",
    "- crie uma variavel bool que verifique se media é maior que 7.\n",
    ">Lembre-se de usar nomes significativos para as variáveis e que a media é a soma das notas dividida pelo número de provas."
   ]
  },
  {
   "cell_type": "code",
   "execution_count": null,
   "id": "cacc2eb6",
   "metadata": {},
   "outputs": [],
   "source": []
  },
  {
   "cell_type": "markdown",
   "id": "e74ef5f4",
   "metadata": {},
   "source": [
    "<details>\n",
    "  <summary>💡 Clique aqui quando acabar tudo para ver a solução</summary>\n",
    "\n",
    "# 1️⃣ Crie três variáveis: nome, idade e altura\n",
    "nome = \"Mariana\"  \n",
    "idade = 20  \n",
    "altura = 1.65  \n",
    "\n",
    "print(f\"Nome: {nome}, Tipo: {type(nome)}\")  \n",
    "print(f\"Idade: {idade}, Tipo: {type(idade)}\")  \n",
    "print(f\"Altura: {altura}, Tipo: {type(altura)}\\n\")  \n",
    "\n",
    "\n",
    "# 2️⃣ Somar 5 anos à idade atual\n",
    "idade += 5  \n",
    "print(f\"Daqui a 5 anos, {nome} terá {idade_futura} anos.\\n\")  \n",
    "\n",
    "# 3️⃣ Converter a idade para string e mostrar em uma mensagem\n",
    "idade_str = str(idade)  # converte int para str   \n",
    "print(f\"{nome} tem {idade_str} anos e {altura}m de altura.\\n\")    \n",
    "\n",
    "# 4️⃣ Trabalhando com notas e média\n",
    "nota_prova1, nota_prova2, nota_prova3 = 8.5, 7.0, 9.0  # atribuição múltipla  \n",
    "media = (nota_prova1 + nota_prova2 + nota_prova3) / 3  # cálculo da média  \n",
    "media_maior_que_sete = media > 7  # Booleano: True se média > 7, False caso contrário  \n",
    "\n",
    "print(f\"Notas: {nota_prova1}, {nota_prova2}, {nota_prova3}\")  \n",
    "print(f\"Média: {media}\")  \n",
    "print(f\"Média maior que 7? {media_maior_que_sete}\")  \n",
    "\n",
    ">**Pelo menos um print() mostre várias variáveis ao mesmo tempo.    \n",
    "A verificação media_maior_que_sete seja feita direto no print(), sem criar variável separada se quisermos.s**"
   ]
  }
 ],
 "metadata": {
  "language_info": {
   "name": "python"
  }
 },
 "nbformat": 4,
 "nbformat_minor": 5
}
