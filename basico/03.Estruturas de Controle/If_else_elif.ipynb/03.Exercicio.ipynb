{
 "cells": [
  {
   "cell_type": "markdown",
   "id": "eb0471f2",
   "metadata": {},
   "source": [
    "# 📝 Exercício: Trabalhando com condição"
   ]
  },
  {
   "cell_type": "markdown",
   "id": "b14449d2",
   "metadata": {},
   "source": [
    "## Exercício 1 – Verificação de login\n",
    "Descrição: Crie um programa que peça ao usuário um nome de usuário e uma senha e :\n",
    "- Se o usuário digitar `\"admin\"` como nome e `\"1234\"` como senha, imprima: `\"Login bem-sucedido!\"`\n",
    "- Se o usuário digitar `\"admin\"` mas a senha estiver incorreta, imprima: `\"Senha incorreta!\"`\n",
    "- Se o usuário digitar outro nome, imprima: `\"Usuário não encontrado!\"`\n"
   ]
  },
  {
   "cell_type": "markdown",
   "id": "40234a3a",
   "metadata": {},
   "source": [
    "---"
   ]
  },
  {
   "cell_type": "markdown",
   "id": "71dbd741",
   "metadata": {},
   "source": [
    "<details>\n",
    "  <summary>💡 Clique aqui quando acabar tudo para ver a solução</summary>\n",
    "\n",
    "```python\n",
    "\n",
    "## 1\n",
    "usuario = input(\"Digite seu nome de usuário: \")\n",
    "senha = input(\"Digite sua senha: \")\n",
    "\n",
    "if usuario == \"admin\" and senha == \"1234\":\n",
    "    print(\"Login bem-sucedido!\")\n",
    "elif usuario == \"admin\":\n",
    "    print(\"Senha incorreta!\")\n",
    "else:\n",
    "    print(\"Usuário não encontrado!\")\n",
    "\n",
    "\n",
    "\n",
    "## 2\n",
    "quantidade = int(input(\"Quantos produtos você comprou? \"))\n",
    "\n",
    "if quantidade >= 10:\n",
    "    print(\"Você ganhou um desconto de 20%!\")\n",
    "elif 5 <= quantidade <= 9:\n",
    "    print(\"Você ganhou um desconto de 10%!\")\n",
    "else:\n",
    "    print(\"Sem desconto desta vez.\")\n",
    "\n",
    "\n",
    "\n",
    "## 3\n",
    "altura = int(input(\"Digite sua altura em cm: \"))\n",
    "\n",
    "if altura >= 180:\n",
    "    print(\"Você é alto(a).\")\n",
    "elif 160 <= altura < 180:\n",
    "    print(\"Você tem altura média.\")\n",
    "else:\n",
    "    print(\"Você é baixo(a).\")\n",
    "\n",
    "\n",
    "\n",
    "## 4\n",
    "idade = int(input(\"Digite sua idade: \"))\n",
    "rg = int(input(\"Digite seu RG (número de identidade): \"))\n",
    "\n",
    "if rg <= 0:\n",
    "    print(\"RG inválido.\")\n",
    "else :\n",
    "    if idade >= 18:\n",
    "        print(\"Você é maior de idade e possui um RG válido.\")\n",
    "\n",
    "if idade < 18:\n",
    "    print(\"Você é menor de idade.\")\n",
    "\n",
    "\n",
    "\n",
    "## 5\n",
    "idade = int(input(\"Digite sua idade: \"))\n",
    "\n",
    "if idade < 12:\n",
    "    print(\"Classificação: Livre para menores de 12 anos\")\n",
    "elif 12 <= idade <= 17:\n",
    "    print(\"Classificação: 12 anos\")\n",
    "elif 18 <= idade <= 59:\n",
    "    print(\"Classificação: 18 anos\")\n",
    "else:\n",
    "    print(\"Classificação: Livre para todos (sênior)\")\n"
   ]
  },
  {
   "cell_type": "markdown",
   "id": "8047bd1a",
   "metadata": {},
   "source": [
    "---"
   ]
  },
  {
   "cell_type": "code",
   "execution_count": null,
   "id": "561049a6",
   "metadata": {},
   "outputs": [],
   "source": []
  },
  {
   "cell_type": "markdown",
   "id": "1bab15cd",
   "metadata": {},
   "source": [
    "## Exercício 2 – Promoção de supermercado\n",
    "Descrição: Peça ao usuário para digitar a quantidade de produtos que comprou.\n",
    "\n",
    "- Se comprou 10 ou mais, imprima `\"Você ganhou um desconto de 20%!\"`\n",
    "- Se comprou entre 5 e 9 produtos, imprima `\"Você ganhou um desconto de 10%!\"`\n",
    "- Se comprou menos de 5 produtos, imprima `\"Sem desconto desta vez.\"`"
   ]
  },
  {
   "cell_type": "code",
   "execution_count": null,
   "id": "479928e9",
   "metadata": {},
   "outputs": [],
   "source": []
  },
  {
   "cell_type": "markdown",
   "id": "5effd40d",
   "metadata": {},
   "source": [
    "## Exercício 3 – Classificação de altura\n",
    "Descrição: Peça ao usuário para digitar sua altura em centímetros.\n",
    "\n",
    "- Se a altura for maior ou igual a 180, imprima `\"Você é alto(a).\"`\n",
    "- Se a altura estiver entre 160 e 179, imprima `\"Você tem altura média.\"`\n",
    "- Se a altura for menor que 160, imprima `\"Você é baixo(a).\"`"
   ]
  },
  {
   "cell_type": "code",
   "execution_count": null,
   "id": "18ee2ce5",
   "metadata": {},
   "outputs": [],
   "source": []
  },
  {
   "cell_type": "markdown",
   "id": "12fcd60d",
   "metadata": {},
   "source": [
    "## Exercício 4 – RG\n",
    "Crie um programa que peça ao usuário sua idade e seu RG (número de identidade).  \n",
    "- Se a idade for maior ou igual a 18 e o RG for um número positivo, imprima `\"Você é maior de idade e possui um RG válido.\"`.  \n",
    "- Se a idade for menor que 18, imprima `\"Você é menor de idade.\"`  \n",
    "- Se o RG for um número negativo ou zero, imprima `\"RG inválido.\"`  "
   ]
  },
  {
   "cell_type": "code",
   "execution_count": null,
   "id": "41cb0057",
   "metadata": {},
   "outputs": [],
   "source": []
  },
  {
   "cell_type": "markdown",
   "id": "164150f9",
   "metadata": {},
   "source": [
    "## Exercício 5 – Sistema de classificação de filmes\n",
    "Descrição: Peça ao usuário para digitar a idade do espectador.\n",
    "\n",
    "- Se a idade for menor que 12, imprima `\"Classificação: Livre para menores de 12 anos\"`\n",
    "- Se a idade estiver entre 12 e 17, imprima `\"Classificação: 12 anos\"`\n",
    "- Se a idade estiver entre 18 e 59, imprima `\"Classificação: 18 anos\"`\n",
    "- Se a idade for 60 ou mais, imprima `\"Classificação: Livre para todos (sênior)\"`"
   ]
  },
  {
   "cell_type": "code",
   "execution_count": null,
   "id": "f11ac27b",
   "metadata": {},
   "outputs": [],
   "source": []
  }
 ],
 "metadata": {
  "kernelspec": {
   "display_name": "Python 3",
   "language": "python",
   "name": "python3"
  },
  "language_info": {
   "codemirror_mode": {
    "name": "ipython",
    "version": 3
   },
   "file_extension": ".py",
   "mimetype": "text/x-python",
   "name": "python",
   "nbconvert_exporter": "python",
   "pygments_lexer": "ipython3",
   "version": "3.11.9"
  }
 },
 "nbformat": 4,
 "nbformat_minor": 5
}
