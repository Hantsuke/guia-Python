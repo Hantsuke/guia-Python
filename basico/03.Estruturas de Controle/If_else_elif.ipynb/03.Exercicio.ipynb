{
 "cells": [
  {
   "cell_type": "markdown",
   "id": "eb0471f2",
   "metadata": {},
   "source": [
    "# 📝 Exercício: Trabalhando com condição"
   ]
  },
  {
   "cell_type": "markdown",
   "id": "772a0ebc",
   "metadata": {},
   "source": [
    "## Exercicio 1\n",
    "Crie um programa que peça ao usuário sua idade e seu RG (número de identidade).  \n",
    "Se a idade for maior ou igual a 18 e o RG for um número positivo, imprima \"Você é maior de idade e possui um RG válido.\".  \n",
    "Se a idade for menor que 18, imprima \"Você é menor de idade.\"  \n",
    "Se o RG for um número negativo ou zero, imprima \"RG inválido.\".  "
   ]
  },
  {
   "cell_type": "code",
   "execution_count": null,
   "id": "0f7527ba",
   "metadata": {},
   "outputs": [],
   "source": []
  }
 ],
 "metadata": {
  "language_info": {
   "name": "python"
  }
 },
 "nbformat": 4,
 "nbformat_minor": 5
}
