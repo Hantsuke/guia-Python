{
 "cells": [
  {
   "cell_type": "markdown",
   "id": "9dfc4922",
   "metadata": {},
   "source": [
    "# 🔗 Operadores Lógicos em Python\n",
    "> **💡 O que são operadores Lógicos?**  \n",
    ">Operadores lógicos permitem combinar expressões booleanas (`True` ou `False`) e tomar decisões baseadas em múltiplas condições.  \n",
    "Eles são fundamentais para controle de fluxo, verificações e condições complexas."
   ]
  },
  {
   "cell_type": "markdown",
   "id": "db69c37d",
   "metadata": {},
   "source": [
    "a = 10  \n",
    "b = 5\n",
    "\n",
    "| Operador | Descrição                                                    | Exemplo           | Resultado |\n",
    "| -------- | ------------------------------------------------------------ | ----------------- | --------- |\n",
    "| `and`    | Retorna `True` se **todas** as condições forem verdadeiras   | `a > 0 and b > 0` | True      |\n",
    "| `or`     | Retorna `True` se **pelo menos uma** condição for verdadeira | `a > 0 or b < 0`  | True      |\n",
    "| `not`    | Inverte o valor lógico da expressão                          | `not a > 0`       | False     |\n"
   ]
  },
  {
   "cell_type": "code",
   "execution_count": null,
   "id": "3b8e4022",
   "metadata": {},
   "outputs": [],
   "source": [
    "a = 10\n",
    "b = 5\n",
    "\n",
    "print(a > 0 and b > 0)  # True\n",
    "print(a > 0 or b < 0)   # True\n",
    "print(not a > 0)        # False"
   ]
  },
  {
   "cell_type": "markdown",
   "id": "adf09409",
   "metadata": {},
   "source": [
    "# ✅Verdadeiro ou ❌Falso?\n",
    "\n",
    "> Determine se cada expressão abaixo é True ou False:\n",
    "\n",
    "- 10 > 5 and 3 < 7  \n",
    "- 8 == 8 or 2 > 5  \n",
    "- not (4 > 2)  \n",
    "- 5 != 5 or 10 >= 10  \n",
    "- 7 < 3 and 8 != 8  \n",
    "- not (6 <= 6 and 2 < 5)  \n",
    "- (10 > 5) or (3 > 7)  \n",
    "- (5 == 5) and (not 3 > 4)  \n",
    "\n",
    ">Não use o print para responder :"
   ]
  },
  {
   "cell_type": "markdown",
   "id": "2f7f83ef",
   "metadata": {},
   "source": [
    "Exemplo :  \n",
    "|expressão|10 > 5|3 < 7|Operador|Resultado\n",
    "---------------------------------|-------|------|---|-----| \n",
    "|10 > 5 and 3 < 7                |  True | True |and| True|"
   ]
  },
  {
   "cell_type": "code",
   "execution_count": null,
   "id": "b2e9382a",
   "metadata": {},
   "outputs": [],
   "source": [
    "'''\n",
    "   10 > 5 and 3 < 7                :  True\n",
    "   38 == 8 or 2 > 5                :\n",
    "   not (4 > 2)                     :\n",
    "   5 != 5 or 10 >= 10              :\n",
    "   7 < 3 and 8 != 8                :\n",
    "   not (6 <= 6 and 2 < 5)          :\n",
    "   (10 > 5) or (3 > 7)             :\n",
    "   (5 == 5) and (not 3 > 4)        :\n",
    "'''"
   ]
  }
 ],
 "metadata": {
  "kernelspec": {
   "display_name": "Python 3",
   "language": "python",
   "name": "python3"
  },
  "language_info": {
   "codemirror_mode": {
    "name": "ipython",
    "version": 3
   },
   "file_extension": ".py",
   "mimetype": "text/x-python",
   "name": "python",
   "nbconvert_exporter": "python",
   "pygments_lexer": "ipython3",
   "version": "3.11.9"
  }
 },
 "nbformat": 4,
 "nbformat_minor": 5
}
