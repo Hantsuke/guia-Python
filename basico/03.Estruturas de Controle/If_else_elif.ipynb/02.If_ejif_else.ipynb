{
 "cells": [
  {
   "cell_type": "markdown",
   "id": "36ea5993",
   "metadata": {},
   "source": [
    "# ➿ Condicionais em Python\n",
    ">**O que é uma condicional?**  \n",
    "\n",
    "Uma condicional permite que o programa execute um bloco de código apenas se uma condição for verdadeira.\n"
   ]
  },
  {
   "cell_type": "markdown",
   "id": "a1ebae15",
   "metadata": {},
   "source": [
    "Entrada → Teste de Condição → Se verdadeiro → Executa bloco A  \n",
    "________________________________↘ Se falso  → Executa bloco B\n"
   ]
  },
  {
   "cell_type": "markdown",
   "id": "4e32aebc",
   "metadata": {},
   "source": [
    "# 🧱 Estrutura básica\n",
    "`if`    ->  Executa um bloco apenas se a condição for verdadeira:  \n"
   ]
  },
  {
   "cell_type": "markdown",
   "id": "856e10b5",
   "metadata": {},
   "source": [
    "`if` condição `:`  \n",
    "_______# bloco executado se condição for True  \n",
    "\n",
    "Podendo combinar operadores lógicos e comparação:"
   ]
  },
  {
   "cell_type": "markdown",
   "id": "1edd0959",
   "metadata": {},
   "source": [
    "### Por que vou usar input()? \n",
    "Porque assim você pode testar com diferentes valores sem precisar editar o código toda hora.   \n",
    "⭐ Podendo verificar diferentes cenários usando o if e else."
   ]
  },
  {
   "cell_type": "code",
   "execution_count": null,
   "id": "b05fc5b6",
   "metadata": {},
   "outputs": [],
   "source": [
    "idade = int(input(\"Digite sua idade: \"))\n",
    "\n",
    "if idade >= 18:\n",
    "    print(\"Você é maior de idade\")"
   ]
  },
  {
   "cell_type": "code",
   "execution_count": null,
   "id": "e7f8bccc",
   "metadata": {},
   "outputs": [],
   "source": [
    "x = 10\n",
    "if 5 < x < 15:  \n",
    "    print(\"x está entre 5 e 15\")\n"
   ]
  },
  {
   "cell_type": "markdown",
   "id": "f67f3a5b",
   "metadata": {},
   "source": [
    "`else`  ->  Executa um bloco quando a condição não é verdadeira:  \n"
   ]
  },
  {
   "cell_type": "code",
   "execution_count": null,
   "id": "b9cdeb10",
   "metadata": {},
   "outputs": [],
   "source": [
    "idade = int(input(\"Digite sua idade: \")) \n",
    "\n",
    "if idade >= 18:  \n",
    "    print(\"Maior de idade\")  \n",
    "else:  \n",
    "    print(\"Menor de idade\")  "
   ]
  },
  {
   "cell_type": "markdown",
   "id": "f5b69d08",
   "metadata": {},
   "source": [
    "`elif`  ->  Permite testar várias condições sequenciais:  "
   ]
  },
  {
   "cell_type": "code",
   "execution_count": null,
   "id": "389985d7",
   "metadata": {},
   "outputs": [],
   "source": [
    "nota = float(input(\"Digite a nota do aluno: \"))\n",
    "\n",
    "if nota >= 9:\n",
    "    print(\"Excelente\")\n",
    "elif nota >= 7:\n",
    "    print(\"Bom\")\n",
    "elif nota >= 5:\n",
    "    print(\"Regular\")\n",
    "else:\n",
    "    print(\"Insuficiente\")"
   ]
  },
  {
   "cell_type": "markdown",
   "id": "c371120c",
   "metadata": {},
   "source": [
    "          ┌───────────────┐\n",
    "          │   Condição?   │\n",
    "          └──────┬────────┘\n",
    "                 │Sim\n",
    "                 ▼\n",
    "           Executa bloco A\n",
    "                 │\n",
    "                 └──►Fim\n",
    "                 │\n",
    "                Não\n",
    "                 ▼\n",
    "           Executa bloco B\n"
   ]
  },
  {
   "cell_type": "markdown",
   "id": "5e5118d7",
   "metadata": {},
   "source": [
    "# ≠ Comparações entre if e elif\n",
    "**Múltiplos ifs**: Cada if é um fluxo independente e será verificado, mesmo que um if anterior seja verdadeiro.   \n",
    "⭐ Isso pode levar a que mais de um bloco de código seja executado. "
   ]
  },
  {
   "cell_type": "markdown",
   "id": "97d1e297",
   "metadata": {},
   "source": [
    "          ┌───────────────┐          ┌───────────────┐\n",
    "          │   Condição?   │          │   Condição?   │\n",
    "          └──────┬────────┘          └──────┬────────┘\n",
    "                 │Sim                       │Sim\n",
    "                 ▼                          ▼\n",
    "           Executa bloco A             Executa bloco A\n",
    "                 │                          │\n",
    "                 └──►Fim                    └──►Fim\n"
   ]
  },
  {
   "cell_type": "markdown",
   "id": "09557af5",
   "metadata": {},
   "source": [
    "**Estrutura if-elif**: O elif é parte de um conjunto if-elif-else,  o código dentro do elif só é avaliado se a condição do if (e dos elifs anteriores) for falsa. "
   ]
  },
  {
   "cell_type": "markdown",
   "id": "a2a12d58",
   "metadata": {},
   "source": [
    "          ┌───────────────────┐\n",
    "          │   If Condição?    │\n",
    "          └──────┬────────────┘\n",
    "                 │Sim\n",
    "                 ▼\n",
    "           Executa bloco A\n",
    "                 │\n",
    "                 └──►Fim\n",
    "                 │\n",
    "               Se Não\n",
    "                 ▼\n",
    "          ┌───────────────────┐\n",
    "          │   Elif Condição?  │\n",
    "          └──────┬────────────┘\n",
    "                 │Sim\n",
    "                 ▼\n",
    "           Executa bloco B\n",
    "                 │\n",
    "                 └──►Fim\n",
    "                 │\n",
    "               Se Não\n",
    "                 ▼\n",
    "           Executa bloco C"
   ]
  },
  {
   "cell_type": "code",
   "execution_count": null,
   "id": "dd7f24da",
   "metadata": {},
   "outputs": [],
   "source": [
    "x = 10\n",
    "\n",
    "# Usando if separado: O que acha que sairá impresso?\n",
    "if x > 5:\n",
    "    print(\"x > 5\")\n",
    "if x > 8:\n",
    "    print(\"x > 8\")"
   ]
  },
  {
   "cell_type": "code",
   "execution_count": null,
   "id": "67a9a87d",
   "metadata": {},
   "outputs": [],
   "source": [
    "# Usando elif : O que acha que sairá impresso?\n",
    "if x > 5:\n",
    "    print(\"x > 5\")\n",
    "elif x > 8:\n",
    "    print(\"x > 8\")"
   ]
  },
  {
   "cell_type": "markdown",
   "id": "9b434fa2",
   "metadata": {},
   "source": [
    "Perceba que utilizamos os Operadores de comparação (== , != , > , < , >= , <=)   \n",
    "Mas você se lembra dos operadores Lógicos (and , not , or)?   \n",
    "- Pois bem eles, como print e variaveis podem ser usados nas condições"
   ]
  },
  {
   "cell_type": "code",
   "execution_count": null,
   "id": "501fbb32",
   "metadata": {},
   "outputs": [],
   "source": [
    "idade = int(input(\"Digite sua idade: \"))\n",
    "tem_rg = input(\"Você tem RG? (deixe vazio se não tiver): \")\n",
    "\n",
    "if idade >= 18 and tem_rg:\n",
    "    print(\"Pode entrar\")\n",
    "else:\n",
    "    print(\"Não pode entrar\")"
   ]
  },
  {
   "cell_type": "markdown",
   "id": "1eca9525",
   "metadata": {},
   "source": [
    "#### Sua vez de praticar! \n",
    "Faça algo que te interesse usando if, else e elif e operadores lógicos e de comparação.\n",
    "<details>\n",
    "  <summary>Exemplo de programa: Verifica se uma pessoa está apta a dirigir.</summary>\n",
    "Para que alguém possa dirigir, é necessário atender a dois critérios:\n",
    "- Ter 18 anos ou mais\n",
    "- Possuir uma Carteira Nacional de Habilitação (CNH)\n",
    "O programa analisa essas informações e informa se a pessoa está autorizada a dirigir ou não."
   ]
  },
  {
   "cell_type": "markdown",
   "id": "ade3e545",
   "metadata": {},
   "source": [
    "---"
   ]
  },
  {
   "cell_type": "markdown",
   "id": "f3e3587f",
   "metadata": {},
   "source": [
    "- Não precisa ser só com idade e RG, use sua criatividade! \n",
    "- Não precisa ser algo sério, pode ser algo engraçado ou bobo mesmo! \n",
    "- Não precisa ser algo complexo, pode ser algo simples! "
   ]
  },
  {
   "cell_type": "code",
   "execution_count": null,
   "id": "6ebf26db",
   "metadata": {},
   "outputs": [],
   "source": []
  },
  {
   "cell_type": "markdown",
   "id": "e05fd6db",
   "metadata": {},
   "source": [
    "---"
   ]
  },
  {
   "cell_type": "markdown",
   "id": "b5c757d1",
   "metadata": {},
   "source": [
    "# ⏬ Condicionais aninhadas\n",
    "Você pode colocar if dentro de if para decisões mais complexas:"
   ]
  },
  {
   "cell_type": "code",
   "execution_count": null,
   "id": "01848568",
   "metadata": {},
   "outputs": [],
   "source": [
    "nota = int(input(\"Digite a nota do aluno: \"))\n",
    "presenca = int(input(\"Digite a porcentagem de presença do aluno: \"))\n",
    "\n",
    "if nota >= 7:\n",
    "    if presenca >= 75:\n",
    "        print(\"Aprovado\")\n",
    "    else:\n",
    "        print(\"Reprovado por falta\")\n",
    "else:\n",
    "    print(\"Reprovado por nota\")"
   ]
  },
  {
   "cell_type": "markdown",
   "id": "b13808e8",
   "metadata": {},
   "source": [
    "# Condicionais em uma linha\n",
    "Python permite escrever if/else em uma linha para expressões simples:  \n",
    "⭐ Usada em situações simples, quando queremos retornar um valor baseado em uma condição."
   ]
  },
  {
   "cell_type": "markdown",
   "id": "bf07e026",
   "metadata": {},
   "source": [
    "*Condição se for verdadeira* `if` *condição* `else` *condição se falsa*"
   ]
  },
  {
   "cell_type": "code",
   "execution_count": null,
   "id": "324779e0",
   "metadata": {},
   "outputs": [],
   "source": [
    "idade = int(input(\"Digite sua idade: \"))\n",
    "print(\"Maior\") if idade >= 18 else print(\"Menor\")"
   ]
  },
  {
   "cell_type": "markdown",
   "id": "ed9f3c0c",
   "metadata": {},
   "source": [
    "Python permite escrever if/else em uma linha para expressões simples:"
   ]
  },
  {
   "cell_type": "code",
   "execution_count": null,
   "id": "d85175b6",
   "metadata": {},
   "outputs": [],
   "source": [
    "nota = int(input(\"Digite a nota do aluno: \"))\n",
    "resultado = \"Excelente\" if nota >= 9 else \"Bom\" if nota >= 7 else \"Regular\"\n",
    "print(resultado)"
   ]
  },
  {
   "cell_type": "markdown",
   "id": "62f8b552",
   "metadata": {},
   "source": [
    "# 💯 Valores Avaliados como Booleanos\n",
    "Python interpreta alguns valores diretamente como True ou False:  \n",
    "`0, \"\", [], {}, None` → False  \n",
    "Qualquer outro valor → True  "
   ]
  },
  {
   "cell_type": "code",
   "execution_count": null,
   "id": "31a03818",
   "metadata": {},
   "outputs": [],
   "source": [
    "texto = \"\"\n",
    "if texto:\n",
    "    print(\"Tem texto\")\n",
    "else:\n",
    "    print(\"Texto vazio\")\n"
   ]
  },
  {
   "cell_type": "markdown",
   "id": "0179f0b2",
   "metadata": {},
   "source": [
    "# 🧰 Erros Comuns\n",
    "❌ Erro de indentação  "
   ]
  },
  {
   "cell_type": "code",
   "execution_count": null,
   "id": "0b587dd6",
   "metadata": {},
   "outputs": [],
   "source": [
    "if True:\n",
    "print(\"Oi\")        # ❌ Errado: precisa de indentação"
   ]
  },
  {
   "cell_type": "code",
   "execution_count": null,
   "id": "d848a02b",
   "metadata": {},
   "outputs": [],
   "source": [
    "if True:\n",
    "    print(\"Oi\")"
   ]
  },
  {
   "cell_type": "markdown",
   "id": "7822acb6",
   "metadata": {},
   "source": [
    "❌ Usar `=` em vez de `==`"
   ]
  },
  {
   "cell_type": "code",
   "execution_count": null,
   "id": "c652df07",
   "metadata": {},
   "outputs": [],
   "source": [
    "if x = 5:          # ❌ Errado: = faz atribuição, não comparação\n",
    "    print(\"x é igual a 5\") "
   ]
  },
  {
   "cell_type": "code",
   "execution_count": null,
   "id": "f839da0f",
   "metadata": {},
   "outputs": [],
   "source": [
    "if x == 5:\n",
    "    print(\"x é igual a 5\")\n"
   ]
  }
 ],
 "metadata": {
  "kernelspec": {
   "display_name": "Python 3",
   "language": "python",
   "name": "python3"
  },
  "language_info": {
   "codemirror_mode": {
    "name": "ipython",
    "version": 3
   },
   "file_extension": ".py",
   "mimetype": "text/x-python",
   "name": "python",
   "nbconvert_exporter": "python",
   "pygments_lexer": "ipython3",
   "version": "3.11.9"
  }
 },
 "nbformat": 4,
 "nbformat_minor": 5
}
