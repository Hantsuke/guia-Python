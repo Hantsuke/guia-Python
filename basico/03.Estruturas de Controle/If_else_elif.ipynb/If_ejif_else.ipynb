{
 "cells": [
  {
   "cell_type": "markdown",
   "id": "36ea5993",
   "metadata": {},
   "source": [
    "# Condicionais em Python\n",
    ">**O que é uma condicional?**  \n",
    "\n",
    "Uma condicional permite que o programa execute um bloco de código apenas se uma condição for verdadeira.\n"
   ]
  },
  {
   "cell_type": "markdown",
   "id": "4e32aebc",
   "metadata": {},
   "source": [
    "# Estrutura básica\n",
    "`if`    ->  Executa um bloco apenas se a condição for verdadeira:  \n"
   ]
  },
  {
   "cell_type": "markdown",
   "id": "856e10b5",
   "metadata": {},
   "source": [
    "if condição:\n",
    "    # bloco executado se condição for True"
   ]
  },
  {
   "cell_type": "markdown",
   "id": "f67f3a5b",
   "metadata": {},
   "source": [
    "`else`  ->  Executa um bloco quando a condição não é verdadeira:  \n"
   ]
  },
  {
   "cell_type": "markdown",
   "id": "b9cdeb10",
   "metadata": {},
   "source": [
    "if idade >= 18:\n",
    "    print(\"Maior de idade\")\n",
    "else:\n",
    "    print(\"Menor de idade\")"
   ]
  },
  {
   "cell_type": "markdown",
   "id": "f5b69d08",
   "metadata": {},
   "source": [
    "`elif`  ->  Permite testar várias condições sequenciais:  "
   ]
  },
  {
   "cell_type": "markdown",
   "id": "389985d7",
   "metadata": {},
   "source": [
    "nota = 7\n",
    "\n",
    "if nota >= 9:\n",
    "    print(\"Excelente\")\n",
    "elif nota >= 7:\n",
    "    print(\"Bom\")\n",
    "elif nota >= 5:\n",
    "    print(\"Regular\")\n",
    "else:\n",
    "    print(\"Insuficiente\")"
   ]
  }
 ],
 "metadata": {
  "language_info": {
   "name": "python"
  }
 },
 "nbformat": 4,
 "nbformat_minor": 5
}
